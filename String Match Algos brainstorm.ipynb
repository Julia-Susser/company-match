{
 "cells": [
  {
   "cell_type": "code",
   "execution_count": 1,
   "id": "53f53514",
   "metadata": {},
   "outputs": [],
   "source": [
    "import numpy as np\n",
    "d = 64                           # dimension\n",
    "nb = 100000                      # database size\n",
    "nq = 10000                       # nb of queries\n",
    "np.random.seed(1234)             # make reproducible\n",
    "xb = np.random.random((nb, d)).astype('float32')\n",
    "xb[:, 0] += np.arange(nb) / 1000.\n",
    "xq = np.random.random((nq, d)).astype('float32')\n",
    "xq[:, 0] += np.arange(nq) / 1000."
   ]
  },
  {
   "cell_type": "code",
   "execution_count": 2,
   "id": "264baba9",
   "metadata": {},
   "outputs": [
    {
     "data": {
      "text/plain": [
       "array([[1.91519454e-01, 6.22108757e-01, 4.37727749e-01, ...,\n",
       "        6.24916732e-01, 4.78093803e-01, 1.95675179e-01],\n",
       "       [3.83317441e-01, 5.38736843e-02, 4.51648414e-01, ...,\n",
       "        1.51395261e-01, 3.35174650e-01, 6.57551765e-01],\n",
       "       [7.53425434e-02, 5.50063960e-02, 3.23194802e-01, ...,\n",
       "        3.44416976e-01, 6.40880406e-01, 1.26205325e-01],\n",
       "       ...,\n",
       "       [1.00811470e+02, 5.90245306e-01, 7.98893511e-01, ...,\n",
       "        3.39859009e-01, 3.01949501e-01, 8.53854537e-01],\n",
       "       [1.00669464e+02, 9.16068792e-01, 9.55078781e-01, ...,\n",
       "        5.95364332e-01, 3.84918079e-02, 1.05637990e-01],\n",
       "       [1.00855637e+02, 5.91134131e-01, 6.78907931e-01, ...,\n",
       "        2.18976989e-01, 6.53015897e-02, 2.17538327e-01]], dtype=float32)"
      ]
     },
     "execution_count": 2,
     "metadata": {},
     "output_type": "execute_result"
    }
   ],
   "source": [
    "xb"
   ]
  },
  {
   "cell_type": "code",
   "execution_count": 3,
   "id": "a9ae561f",
   "metadata": {},
   "outputs": [
    {
     "data": {
      "text/plain": [
       "64"
      ]
     },
     "execution_count": 3,
     "metadata": {},
     "output_type": "execute_result"
    }
   ],
   "source": [
    "d"
   ]
  },
  {
   "cell_type": "code",
   "execution_count": 4,
   "id": "ba1d07fa",
   "metadata": {},
   "outputs": [
    {
     "name": "stdout",
     "output_type": "stream",
     "text": [
      "True\n",
      "100000\n"
     ]
    },
    {
     "data": {
      "text/plain": [
       "(array([[  0, 393, 363,  78],\n",
       "        [  1, 555, 277, 364],\n",
       "        [  2, 304, 101,  13],\n",
       "        [  3, 173,  18, 182],\n",
       "        [  4, 288, 370, 531]]),\n",
       " array([[0.       , 7.1751733, 7.2076297, 7.2511625],\n",
       "        [0.       , 6.323565 , 6.684581 , 6.799946 ],\n",
       "        [0.       , 5.7964087, 6.3917365, 7.2815123],\n",
       "        [0.       , 7.2779055, 7.527987 , 7.6628466],\n",
       "        [0.       , 6.7638035, 7.295121 , 7.368815 ]], dtype=float32))"
      ]
     },
     "execution_count": 4,
     "metadata": {},
     "output_type": "execute_result"
    }
   ],
   "source": [
    "import faiss  \n",
    "\n",
    "#faiss using product quantization for data compression and HNSW for coarse quantizer\n",
    "class Faiss:\n",
    "    def __init__(self):\n",
    "        self.index = faiss.IndexFlatL2(d)   # build the index\n",
    "        print(self.index.is_trained)\n",
    "        self.index.add(xb)                  # add vectors to the index\n",
    "        print(self.index.ntotal)\n",
    "    \n",
    "    def search(self,queries, k=4): # want to see k nearest neighbors\n",
    "        D, I = self.index.search(xb[:5], k)\n",
    "        return I,D\n",
    "\n",
    "\n",
    "\n",
    "    \n",
    "f = Faiss()\n",
    "f.search(xb[:5])"
   ]
  },
  {
   "cell_type": "code",
   "execution_count": 6,
   "id": "d361868d",
   "metadata": {},
   "outputs": [
    {
     "data": {
      "text/plain": [
       "array([[231, 211,  27,  19],\n",
       "       [  5, 229, 242,   2],\n",
       "       [177, 187,  52, 246],\n",
       "       ...,\n",
       "       [109, 104,  33,  32],\n",
       "       [202, 115,  58, 236],\n",
       "       [209, 158, 225, 115]], dtype=uint8)"
      ]
     },
     "execution_count": 6,
     "metadata": {},
     "output_type": "execute_result"
    }
   ],
   "source": [
    "d = 32  # data dimension\n",
    "cs = 4  # code size (bytes)\n",
    "\n",
    "# train set \n",
    "nt = 10000\n",
    "xt = np.random.rand(nt, d).astype('float32')\n",
    "\n",
    "# dataset to encode (could be same as train)\n",
    "n = 20000\n",
    "x = np.random.rand(n, d).astype('float32')\n",
    "\n",
    "pq = faiss.ProductQuantizer(d, cs, 8)\n",
    "pq.train(xt)\n",
    "\n",
    "# encode \n",
    "codes = pq.compute_codes(x)\n",
    "\n",
    "# decode\n",
    "x2 = pq.decode(codes)\n",
    "\n",
    "# compute reconstruction error\n",
    "avg_relative_error = ((x - x2)**2).sum() / (x ** 2).sum()\n",
    "\n",
    "codes"
   ]
  },
  {
   "cell_type": "code",
   "execution_count": 7,
   "id": "47551aa9",
   "metadata": {},
   "outputs": [
    {
     "ename": "AssertionError",
     "evalue": "",
     "output_type": "error",
     "traceback": [
      "\u001b[0;31m---------------------------------------------------------------------------\u001b[0m",
      "\u001b[0;31mAssertionError\u001b[0m                            Traceback (most recent call last)",
      "Input \u001b[0;32mIn [7]\u001b[0m, in \u001b[0;36m<cell line: 11>\u001b[0;34m()\u001b[0m\n\u001b[1;32m      8\u001b[0m index\u001b[38;5;241m.\u001b[39mhnsw\u001b[38;5;241m.\u001b[39mefSearch \u001b[38;5;241m=\u001b[39m \u001b[38;5;241m16\u001b[39m               \u001b[38;5;66;03m# Setting the value for efSearch.\u001b[39;00m\n\u001b[1;32m     10\u001b[0m \u001b[38;5;66;03m# Adding vectors to the index (xb are database vectors that are to be indexed).\u001b[39;00m\n\u001b[0;32m---> 11\u001b[0m \u001b[43mindex\u001b[49m\u001b[38;5;241;43m.\u001b[39;49m\u001b[43madd\u001b[49m\u001b[43m(\u001b[49m\u001b[43mxb\u001b[49m\u001b[43m)\u001b[49m                  \n\u001b[1;32m     13\u001b[0m \u001b[38;5;66;03m# xq are query vectors, for which we need to search in xb to find the k nearest neighbors.\u001b[39;00m\n\u001b[1;32m     14\u001b[0m \u001b[38;5;66;03m# The search returns D, the pairwise distances, and I, the indices of the nearest neighbors.\u001b[39;00m\n\u001b[1;32m     15\u001b[0m D, I \u001b[38;5;241m=\u001b[39m index\u001b[38;5;241m.\u001b[39msearch(xq, k)\n",
      "File \u001b[0;32m/opt/homebrew/lib/python3.9/site-packages/faiss/class_wrappers.py:228\u001b[0m, in \u001b[0;36mhandle_Index.<locals>.replacement_add\u001b[0;34m(self, x)\u001b[0m\n\u001b[1;32m    215\u001b[0m \u001b[38;5;124;03m\"\"\"Adds vectors to the index.\u001b[39;00m\n\u001b[1;32m    216\u001b[0m \u001b[38;5;124;03mThe index must be trained before vectors can be added to it.\u001b[39;00m\n\u001b[1;32m    217\u001b[0m \u001b[38;5;124;03mThe vectors are implicitly numbered in sequence. When `n` vectors are\u001b[39;00m\n\u001b[0;32m   (...)\u001b[0m\n\u001b[1;32m    224\u001b[0m \u001b[38;5;124;03m    `dtype` must be float32.\u001b[39;00m\n\u001b[1;32m    225\u001b[0m \u001b[38;5;124;03m\"\"\"\u001b[39;00m\n\u001b[1;32m    227\u001b[0m n, d \u001b[38;5;241m=\u001b[39m x\u001b[38;5;241m.\u001b[39mshape\n\u001b[0;32m--> 228\u001b[0m \u001b[38;5;28;01massert\u001b[39;00m d \u001b[38;5;241m==\u001b[39m \u001b[38;5;28mself\u001b[39m\u001b[38;5;241m.\u001b[39md\n\u001b[1;32m    229\u001b[0m x \u001b[38;5;241m=\u001b[39m np\u001b[38;5;241m.\u001b[39mascontiguousarray(x, dtype\u001b[38;5;241m=\u001b[39m\u001b[38;5;124m'\u001b[39m\u001b[38;5;124mfloat32\u001b[39m\u001b[38;5;124m'\u001b[39m)\n\u001b[1;32m    230\u001b[0m \u001b[38;5;28mself\u001b[39m\u001b[38;5;241m.\u001b[39madd_c(n, swig_ptr(x))\n",
      "\u001b[0;31mAssertionError\u001b[0m: "
     ]
    }
   ],
   "source": [
    "\n",
    "import faiss\n",
    "\n",
    "# Creating the index.\n",
    "index = faiss.IndexHNSWFlat(d, M)            \n",
    "index.hnsw.efConstruction = 40         # Setting the value for efConstruction.\n",
    "index.hnsw.efSearch = 16               # Setting the value for efSearch.\n",
    "\n",
    "# Adding vectors to the index (xb are database vectors that are to be indexed).\n",
    "index.add(xb)                  \n",
    "\n",
    "# xq are query vectors, for which we need to search in xb to find the k nearest neighbors.\n",
    "# The search returns D, the pairwise distances, and I, the indices of the nearest neighbors.\n",
    "D, I = index.search(xq, k)    "
   ]
  },
  {
   "cell_type": "code",
   "execution_count": null,
   "id": "20cd5864",
   "metadata": {},
   "outputs": [],
   "source": []
  }
 ],
 "metadata": {
  "kernelspec": {
   "display_name": "Python 3 (ipykernel)",
   "language": "python",
   "name": "python3"
  },
  "language_info": {
   "codemirror_mode": {
    "name": "ipython",
    "version": 3
   },
   "file_extension": ".py",
   "mimetype": "text/x-python",
   "name": "python",
   "nbconvert_exporter": "python",
   "pygments_lexer": "ipython3",
   "version": "3.9.17"
  }
 },
 "nbformat": 4,
 "nbformat_minor": 5
}
