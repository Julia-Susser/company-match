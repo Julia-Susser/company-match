{
 "cells": [
  {
   "cell_type": "code",
   "execution_count": 1,
   "id": "6897ff57",
   "metadata": {},
   "outputs": [],
   "source": [
    "import pandas as pd\n",
    "import numpy as np\n",
    "import torch\n",
    "from datasets import Dataset\n",
    "\n",
    "from transformers import AutoTokenizer, AutoModel\n",
    "\n",
    "model_ckpt = \"sentence-transformers/multi-qa-mpnet-base-dot-v1\"\n",
    "tokenizer = AutoTokenizer.from_pretrained(model_ckpt)\n",
    "model = AutoModel.from_pretrained(model_ckpt)\n",
    "\n",
    "device = torch.device(\"cuda:0\" if torch.cuda.is_available() else \"cpu\")\n"
   ]
  },
  {
   "cell_type": "code",
   "execution_count": 2,
   "id": "55c2579b",
   "metadata": {},
   "outputs": [],
   "source": [
    "class Embedding:\n",
    "    #CLS is a special classification token and the last hidden state of BERT Embedding\n",
    "    def cls_pooling(self, model_output):\n",
    "        return model_output.last_hidden_state[:, 0]\n",
    "\n",
    "    #BERT tokenizer of input text\n",
    "    def get_embeddings(self, text_list):\n",
    "        encoded_input = tokenizer(\n",
    "            text_list, padding=True, truncation=True, return_tensors=\"pt\"\n",
    "        )\n",
    "        encoded_input = {k: v.to(device) for k, v in encoded_input.items()}\n",
    "        model_output = model(**encoded_input)\n",
    "        return self.cls_pooling(model_output).cpu().detach().numpy()"
   ]
  },
  {
   "cell_type": "code",
   "execution_count": 9,
   "id": "7ee4a050",
   "metadata": {},
   "outputs": [],
   "source": [
    "\n",
    "\n",
    "class Faiss:\n",
    "    def __init__(self):\n",
    "        pass\n",
    "    \n",
    "    #convert dataset into embeddings dataset to run FAISS\n",
    "    def makeEmbeddings(self,dataset,df=None):\n",
    "        embeddings = []\n",
    "        for data in dataset:\n",
    "            embeddings.append(Embedding().get_embeddings(data)[0])\n",
    "        embeddings_dataset = pd.DataFrame(\n",
    "            {\n",
    "                \"embeddings\":embeddings,\n",
    "                \"values\":dataset\n",
    "            })\n",
    "        if (df is not None):\n",
    "            embeddings_dataset = pd.concat([df, embeddings_dataset], axis=1)\n",
    "        embeddings_dataset = Dataset.from_pandas(embeddings_dataset)\n",
    "        return embeddings_dataset\n",
    "    \n",
    "    # run faiss model on dataset\n",
    "    def faiss(self,embeddings_dataset):\n",
    "        embeddings_dataset.add_faiss_index(column=\"embeddings\")\n",
    "    \n",
    "    #get query embedding\n",
    "    def getQueryEmbedding(self, query):\n",
    "        return Embedding().get_embeddings([query])\n",
    "        \n",
    "    #predict 4 nearest neighbors\n",
    "    def predict(self,query,embeddings_dataset,k=4):\n",
    "        query_embedding = self.getQueryEmbedding(query)\n",
    "        scores, samples = embeddings_dataset.get_nearest_examples(\"embeddings\", query_embedding, k=5)\n",
    "        samples = pd.DataFrame(samples)\n",
    "        samples[\"scores\"] = scores\n",
    "        return samples\n",
    "        "
   ]
  },
  {
   "cell_type": "code",
   "execution_count": 10,
   "id": "f29e30b7",
   "metadata": {
    "scrolled": true
   },
   "outputs": [
    {
     "data": {
      "application/vnd.jupyter.widget-view+json": {
       "model_id": "502ab419a419469ca6cfd893ab50cf31",
       "version_major": 2,
       "version_minor": 0
      },
      "text/plain": [
       "  0%|          | 0/1 [00:00<?, ?it/s]"
      ]
     },
     "metadata": {},
     "output_type": "display_data"
    },
    {
     "data": {
      "text/html": [
       "<div>\n",
       "<style scoped>\n",
       "    .dataframe tbody tr th:only-of-type {\n",
       "        vertical-align: middle;\n",
       "    }\n",
       "\n",
       "    .dataframe tbody tr th {\n",
       "        vertical-align: top;\n",
       "    }\n",
       "\n",
       "    .dataframe thead th {\n",
       "        text-align: right;\n",
       "    }\n",
       "</style>\n",
       "<table border=\"1\" class=\"dataframe\">\n",
       "  <thead>\n",
       "    <tr style=\"text-align: right;\">\n",
       "      <th></th>\n",
       "      <th>embeddings</th>\n",
       "      <th>values</th>\n",
       "      <th>scores</th>\n",
       "    </tr>\n",
       "  </thead>\n",
       "  <tbody>\n",
       "    <tr>\n",
       "      <th>0</th>\n",
       "      <td>[-0.15023988485336304, -0.4446641504764557, -0...</td>\n",
       "      <td>vedha</td>\n",
       "      <td>0.000000</td>\n",
       "    </tr>\n",
       "    <tr>\n",
       "      <th>1</th>\n",
       "      <td>[0.04670529440045357, -0.22696265578269958, -0...</td>\n",
       "      <td>julia</td>\n",
       "      <td>59.554565</td>\n",
       "    </tr>\n",
       "    <tr>\n",
       "      <th>2</th>\n",
       "      <td>[0.15655475854873657, -0.3943760395050049, -0....</td>\n",
       "      <td>isabelle</td>\n",
       "      <td>64.213142</td>\n",
       "    </tr>\n",
       "  </tbody>\n",
       "</table>\n",
       "</div>"
      ],
      "text/plain": [
       "                                          embeddings    values     scores\n",
       "0  [-0.15023988485336304, -0.4446641504764557, -0...     vedha   0.000000\n",
       "1  [0.04670529440045357, -0.22696265578269958, -0...     julia  59.554565\n",
       "2  [0.15655475854873657, -0.3943760395050049, -0....  isabelle  64.213142"
      ]
     },
     "execution_count": 10,
     "metadata": {},
     "output_type": "execute_result"
    }
   ],
   "source": [
    "values = [\"julia\",\"vedha\",\"isabelle\"]\n",
    "f = Faiss()\n",
    "embeddings_dataset = f.makeEmbeddings(values)\n",
    "f.faiss(embeddings_dataset)\n",
    "f.predict(\"vedha\",embeddings_dataset)"
   ]
  },
  {
   "cell_type": "code",
   "execution_count": 5,
   "id": "70637593",
   "metadata": {},
   "outputs": [
    {
     "data": {
      "application/vnd.jupyter.widget-view+json": {
       "model_id": "a7b29e432f884c96969c9e703c0dc495",
       "version_major": 2,
       "version_minor": 0
      },
      "text/plain": [
       "  0%|          | 0/1 [00:00<?, ?it/s]"
      ]
     },
     "metadata": {},
     "output_type": "display_data"
    },
    {
     "data": {
      "text/html": [
       "<div>\n",
       "<style scoped>\n",
       "    .dataframe tbody tr th:only-of-type {\n",
       "        vertical-align: middle;\n",
       "    }\n",
       "\n",
       "    .dataframe tbody tr th {\n",
       "        vertical-align: top;\n",
       "    }\n",
       "\n",
       "    .dataframe thead th {\n",
       "        text-align: right;\n",
       "    }\n",
       "</style>\n",
       "<table border=\"1\" class=\"dataframe\">\n",
       "  <thead>\n",
       "    <tr style=\"text-align: right;\">\n",
       "      <th></th>\n",
       "      <th>embeddings</th>\n",
       "      <th>values</th>\n",
       "      <th>scores</th>\n",
       "    </tr>\n",
       "  </thead>\n",
       "  <tbody>\n",
       "    <tr>\n",
       "      <th>0</th>\n",
       "      <td>[0.054808903485536575, 0.07416380941867828, -0...</td>\n",
       "      <td>Morgan Stanley</td>\n",
       "      <td>42.217224</td>\n",
       "    </tr>\n",
       "    <tr>\n",
       "      <th>1</th>\n",
       "      <td>[0.17106111347675323, -0.053230009973049164, -...</td>\n",
       "      <td>Jpmorgan Chase &amp; Co</td>\n",
       "      <td>44.135571</td>\n",
       "    </tr>\n",
       "    <tr>\n",
       "      <th>2</th>\n",
       "      <td>[-0.1403375118970871, -0.25771039724349976, -0...</td>\n",
       "      <td>Mastercard Inc</td>\n",
       "      <td>47.031792</td>\n",
       "    </tr>\n",
       "    <tr>\n",
       "      <th>3</th>\n",
       "      <td>[0.15066705644130707, -0.26614394783973694, -0...</td>\n",
       "      <td>Salesforce, Inc.</td>\n",
       "      <td>47.926243</td>\n",
       "    </tr>\n",
       "    <tr>\n",
       "      <th>4</th>\n",
       "      <td>[-0.007676966488361359, -0.17204351723194122, ...</td>\n",
       "      <td>Wells Fargo &amp; Company/Mn</td>\n",
       "      <td>48.350143</td>\n",
       "    </tr>\n",
       "  </tbody>\n",
       "</table>\n",
       "</div>"
      ],
      "text/plain": [
       "                                          embeddings  \\\n",
       "0  [0.054808903485536575, 0.07416380941867828, -0...   \n",
       "1  [0.17106111347675323, -0.053230009973049164, -...   \n",
       "2  [-0.1403375118970871, -0.25771039724349976, -0...   \n",
       "3  [0.15066705644130707, -0.26614394783973694, -0...   \n",
       "4  [-0.007676966488361359, -0.17204351723194122, ...   \n",
       "\n",
       "                     values     scores  \n",
       "0            Morgan Stanley  42.217224  \n",
       "1       Jpmorgan Chase & Co  44.135571  \n",
       "2            Mastercard Inc  47.031792  \n",
       "3          Salesforce, Inc.  47.926243  \n",
       "4  Wells Fargo & Company/Mn  48.350143  "
      ]
     },
     "execution_count": 5,
     "metadata": {},
     "output_type": "execute_result"
    }
   ],
   "source": [
    "df = pd.read_csv(\"SEC-CompanyTicker.csv\",index_col=0)\n",
    "df = df.head(100)\n",
    "dataset = df.companyName.tolist()\n",
    "f = Faiss()\n",
    "embeddings_dataset = f.makeEmbeddings(dataset)\n",
    "f.faiss(embeddings_dataset)\n",
    "f.predict(\"goldman\",embeddings_dataset)"
   ]
  },
  {
   "cell_type": "code",
   "execution_count": null,
   "id": "3c1ed948",
   "metadata": {},
   "outputs": [],
   "source": [
    "#working HNSW\n",
    "#test it\n",
    "#parameter optimization\n",
    "#short to short, company match\n",
    "#arbitrary embeddings, BERT or mistral, openai api, SBERT (sentence bert), train your embeddings"
   ]
  },
  {
   "cell_type": "code",
   "execution_count": 13,
   "id": "bf73b6ea",
   "metadata": {},
   "outputs": [
    {
     "data": {
      "text/plain": [
       "10"
      ]
     },
     "execution_count": 13,
     "metadata": {},
     "output_type": "execute_result"
    }
   ],
   "source": [
    "len(\"cbfijibaaa\")"
   ]
  },
  {
   "cell_type": "code",
   "execution_count": null,
   "id": "e27ad2ba",
   "metadata": {},
   "outputs": [],
   "source": []
  }
 ],
 "metadata": {
  "kernelspec": {
   "display_name": "Python 3 (ipykernel)",
   "language": "python",
   "name": "python3"
  },
  "language_info": {
   "codemirror_mode": {
    "name": "ipython",
    "version": 3
   },
   "file_extension": ".py",
   "mimetype": "text/x-python",
   "name": "python",
   "nbconvert_exporter": "python",
   "pygments_lexer": "ipython3",
   "version": "3.9.17"
  }
 },
 "nbformat": 4,
 "nbformat_minor": 5
}
