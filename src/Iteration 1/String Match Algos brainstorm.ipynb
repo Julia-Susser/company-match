{
 "cells": [
  {
   "cell_type": "code",
   "execution_count": 8,
   "id": "53f53514",
   "metadata": {},
   "outputs": [],
   "source": [
    "import numpy as np\n",
    "d = 64                           # dimension\n",
    "nb = 100000                      # database size\n",
    "nq = 10000                       # nb of queries\n",
    "np.random.seed(1234)             # make reproducible\n",
    "xb = np.random.random((nb, d)).astype('float32')\n",
    "xb[:, 0] += np.arange(nb) / 1000.\n",
    "xq = np.random.random((nq, d)).astype('float32')\n",
    "xq[:, 0] += np.arange(nq) / 1000."
   ]
  },
  {
   "cell_type": "code",
   "execution_count": 2,
   "id": "264baba9",
   "metadata": {},
   "outputs": [
    {
     "data": {
      "text/plain": [
       "array([[1.91519454e-01, 6.22108757e-01, 4.37727749e-01, ...,\n",
       "        6.24916732e-01, 4.78093803e-01, 1.95675179e-01],\n",
       "       [3.83317441e-01, 5.38736843e-02, 4.51648414e-01, ...,\n",
       "        1.51395261e-01, 3.35174650e-01, 6.57551765e-01],\n",
       "       [7.53425434e-02, 5.50063960e-02, 3.23194802e-01, ...,\n",
       "        3.44416976e-01, 6.40880406e-01, 1.26205325e-01],\n",
       "       ...,\n",
       "       [1.00811470e+02, 5.90245306e-01, 7.98893511e-01, ...,\n",
       "        3.39859009e-01, 3.01949501e-01, 8.53854537e-01],\n",
       "       [1.00669464e+02, 9.16068792e-01, 9.55078781e-01, ...,\n",
       "        5.95364332e-01, 3.84918079e-02, 1.05637990e-01],\n",
       "       [1.00855637e+02, 5.91134131e-01, 6.78907931e-01, ...,\n",
       "        2.18976989e-01, 6.53015897e-02, 2.17538327e-01]], dtype=float32)"
      ]
     },
     "execution_count": 2,
     "metadata": {},
     "output_type": "execute_result"
    }
   ],
   "source": [
    "xb"
   ]
  },
  {
   "cell_type": "code",
   "execution_count": 3,
   "id": "a9ae561f",
   "metadata": {},
   "outputs": [
    {
     "data": {
      "text/plain": [
       "64"
      ]
     },
     "execution_count": 3,
     "metadata": {},
     "output_type": "execute_result"
    }
   ],
   "source": [
    "d"
   ]
  },
  {
   "cell_type": "code",
   "execution_count": 4,
   "id": "ba1d07fa",
   "metadata": {},
   "outputs": [
    {
     "name": "stdout",
     "output_type": "stream",
     "text": [
      "True\n",
      "100000\n"
     ]
    },
    {
     "data": {
      "text/plain": [
       "(array([[  0, 393, 363,  78],\n",
       "        [  1, 555, 277, 364],\n",
       "        [  2, 304, 101,  13],\n",
       "        [  3, 173,  18, 182],\n",
       "        [  4, 288, 370, 531]]),\n",
       " array([[0.       , 7.1751733, 7.2076297, 7.2511625],\n",
       "        [0.       , 6.323565 , 6.684581 , 6.799946 ],\n",
       "        [0.       , 5.7964087, 6.3917365, 7.2815123],\n",
       "        [0.       , 7.2779055, 7.527987 , 7.6628466],\n",
       "        [0.       , 6.7638035, 7.295121 , 7.368815 ]], dtype=float32))"
      ]
     },
     "execution_count": 4,
     "metadata": {},
     "output_type": "execute_result"
    }
   ],
   "source": [
    "import faiss  \n",
    "\n",
    "#faiss using product quantization for data compression and HNSW for coarse quantizer\n",
    "class Faiss:\n",
    "    def __init__(self):\n",
    "        self.index = faiss.IndexFlatL2(d)   # build the index\n",
    "        print(self.index.is_trained)\n",
    "        self.index.add(xb)                  # add vectors to the index\n",
    "        print(self.index.ntotal)\n",
    "    \n",
    "    def search(self,queries, k=4): # want to see k nearest neighbors\n",
    "        D, I = self.index.search(xb[:5], k)\n",
    "        return I,D\n",
    "\n",
    "\n",
    "\n",
    "    \n",
    "f = Faiss()\n",
    "f.search(xb[:5])"
   ]
  },
  {
   "cell_type": "code",
   "execution_count": 6,
   "id": "d361868d",
   "metadata": {},
   "outputs": [
    {
     "data": {
      "text/plain": [
       "array([[231, 211,  27,  19],\n",
       "       [  5, 229, 242,   2],\n",
       "       [177, 187,  52, 246],\n",
       "       ...,\n",
       "       [109, 104,  33,  32],\n",
       "       [202, 115,  58, 236],\n",
       "       [209, 158, 225, 115]], dtype=uint8)"
      ]
     },
     "execution_count": 6,
     "metadata": {},
     "output_type": "execute_result"
    }
   ],
   "source": [
    "d = 32  # data dimension\n",
    "cs = 4  # code size (bytes)\n",
    "\n",
    "# train set \n",
    "nt = 10000\n",
    "xt = np.random.rand(nt, d).astype('float32')\n",
    "\n",
    "# dataset to encode (could be same as train)\n",
    "n = 20000\n",
    "x = np.random.rand(n, d).astype('float32')\n",
    "\n",
    "pq = faiss.ProductQuantizer(d, cs, 8)\n",
    "pq.train(xt)\n",
    "\n",
    "# encode \n",
    "codes = pq.compute_codes(x)\n",
    "\n",
    "# decode\n",
    "x2 = pq.decode(codes)\n",
    "\n",
    "# compute reconstruction error\n",
    "avg_relative_error = ((x - x2)**2).sum() / (x ** 2).sum()\n",
    "\n",
    "codes"
   ]
  },
  {
   "cell_type": "code",
   "execution_count": 9,
   "id": "47551aa9",
   "metadata": {},
   "outputs": [],
   "source": [
    "\n",
    "import faiss\n",
    "\n",
    "# Creating the index.\n",
    "index = faiss.IndexHNSWFlat(d, M)            \n",
    "index.hnsw.efConstruction = 40         # Setting the value for efConstruction.\n",
    "index.hnsw.efSearch = 16               # Setting the value for efSearch.\n",
    "\n",
    "# Adding vectors to the index (xb are database vectors that are to be indexed).\n",
    "index.add(xb)                  \n",
    "\n",
    "# xq are query vectors, for which we need to search in xb to find the k nearest neighbors.\n",
    "# The search returns D, the pairwise distances, and I, the indices of the nearest neighbors.\n",
    "D, I = index.search(xq, k)    "
   ]
  },
  {
   "cell_type": "code",
   "execution_count": 10,
   "id": "02e57ce5",
   "metadata": {},
   "outputs": [
    {
     "data": {
      "text/plain": [
       "array([[6.8155107, 6.889466 , 7.4290214, 7.5298123],\n",
       "       [6.604111 , 6.6797004, 6.720966 , 6.8286805],\n",
       "       [6.470383 , 6.857862 , 7.0043745, 7.0365667],\n",
       "       ...,\n",
       "       [6.0726953, 6.5766892, 6.6140213, 6.732214 ],\n",
       "       [6.637367 , 6.648776 , 6.8578253, 7.009651 ],\n",
       "       [6.218346 , 6.4524803, 6.5487304, 6.5813107]], dtype=float32)"
      ]
     },
     "execution_count": 10,
     "metadata": {},
     "output_type": "execute_result"
    }
   ],
   "source": [
    "D"
   ]
  },
  {
   "cell_type": "code",
   "execution_count": 12,
   "id": "40a60a70",
   "metadata": {},
   "outputs": [],
   "source": [
    "n,d = xb.shape"
   ]
  },
  {
   "cell_type": "code",
   "execution_count": 13,
   "id": "97868a84",
   "metadata": {},
   "outputs": [
    {
     "data": {
      "text/plain": [
       "64"
      ]
     },
     "execution_count": 13,
     "metadata": {},
     "output_type": "execute_result"
    }
   ],
   "source": [
    "d"
   ]
  },
  {
   "cell_type": "code",
   "execution_count": null,
   "id": "e2c805f9",
   "metadata": {},
   "outputs": [],
   "source": []
  }
 ],
 "metadata": {
  "kernelspec": {
   "display_name": "Python 3 (ipykernel)",
   "language": "python",
   "name": "python3"
  },
  "language_info": {
   "codemirror_mode": {
    "name": "ipython",
    "version": 3
   },
   "file_extension": ".py",
   "mimetype": "text/x-python",
   "name": "python",
   "nbconvert_exporter": "python",
   "pygments_lexer": "ipython3",
   "version": "3.9.17"
  }
 },
 "nbformat": 4,
 "nbformat_minor": 5
}
