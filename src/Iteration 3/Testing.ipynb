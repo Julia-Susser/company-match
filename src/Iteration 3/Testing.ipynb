{
 "cells": [
  {
   "cell_type": "code",
   "execution_count": 58,
   "id": "c45913ee",
   "metadata": {},
   "outputs": [],
   "source": [
    "import unittest\n",
    "import pandas as pd\n",
    "from dotenv import load_dotenv\n",
    "import os\n",
    "import importlib\n",
    "\n",
    "rundatasetMod = importlib.import_module(\"RunDataset\")\n",
    "transformerMod = importlib.import_module(\"TransformerEmbeddings\")\n",
    "importlib.reload(rundatasetMod)\n",
    "importlib.reload(transformerMod)\n",
    "runDataset = rundatasetMod.runDataset\n",
    "TransformerEmbeddings = transformerMod.TransformerEmbeddings\n",
    "\n",
    "secDataPath = \"../../inputs/SEC-CompanyTicker.csv\"\n",
    "load_dotenv()\n",
    "key = os.environ.get(\"OPENAI_KEY\")\n",
    "\n",
    "\n"
   ]
  },
  {
   "cell_type": "code",
   "execution_count": 73,
   "id": "7fa7c6f4",
   "metadata": {},
   "outputs": [],
   "source": [
    "\n",
    "import pandas as pd\n",
    "from dotenv import load_dotenv\n",
    "import os\n",
    "\n",
    "\n",
    "secDataPath = \"../../inputs/SEC-CompanyTicker.csv\"\n",
    "load_dotenv()\n",
    "key = os.environ.get(\"OPENAI_KEY\")\n",
    "\n",
    "class runDatasetTest(unittest.TestCase):\n",
    "   \n",
    "    def getModel(self,name,data,epochs=1):\n",
    "        return {\n",
    "            \"name\" : name,\n",
    "            \"data\" : data,\n",
    "            \"epochs\": epochs,\n",
    "            \"api_key\":key\n",
    "        }\n",
    "    \n",
    "    def setUp(self):\n",
    "        pass\n",
    "    \n",
    "    def assertIn(self,solution, result):\n",
    "        if solution not in result:\n",
    "            raise Exception(\"Failure\")\n",
    "    def test1(self):\n",
    "        print(\"TEST1\")\n",
    "        secDataPath = \"../../inputs/SEC-CompanyTicker.csv\"\n",
    "        self.secData = list(pd.read_csv(secDataPath,index_col=0).companyName[:100])\n",
    "        self.secModel = self.getModel(\"Transformer\",self.secData,epochs=1)\n",
    "        self.SECSearch = runDataset(self.secModel)\n",
    "\n",
    "        solution = \"Shell Plc\"\n",
    "        query = \"Shell\"\n",
    "        result = self.SECSearch.similaritySearch([query],k=3)   \n",
    "        print(\"Solution: %s\\nQuery: %s\" % (solution, query))\n",
    "        print(result,\"\\n\")\n",
    "        self.assertIn(solution, result)\n",
    "\n",
    "        solution = \"Chevron Corp\"\n",
    "        query = \"Chevron\"\n",
    "        result = self.SECSearch.similaritySearch([query],k=3) \n",
    "        print(\"Solution: %s\\nQuery: %s\" % (solution, query))\n",
    "        print(result,\"\\n\")\n",
    "        self.assertIn(solution, result)\n",
    "\n",
    "\n",
    "    def test2(self):\n",
    "        print(\"TEST 2\")\n",
    "        secDataPath = \"../../inputs/SEC-CompanyTicker.csv\"\n",
    "        self.secData = list(pd.read_csv(secDataPath,index_col=0).companyName[:300])\n",
    "        self.secModel = self.getModel(\"Transformer\",self.secData, epochs=20)\n",
    "        self.SECSearch = runDataset(self.secModel)\n",
    "\n",
    "        solution = \"Microsoft Corp\"\n",
    "        query = \"microsoft\"\n",
    "        result = self.SECSearch.similaritySearch([query],k=3)   \n",
    "        print(\"Solution: %s\\nQuery: %s\" % (solution, query))\n",
    "        print(result,\"\\n\")\n",
    "        self.assertIn(solution, result)\n",
    "\n",
    "        solution = \"Nvidia Corp\"\n",
    "        query = \"nvidia\"\n",
    "        result = self.SECSearch.similaritySearch([query],k=3) \n",
    "        print(\"Solution: %s\\nQuery: %s\" % (solution, query))\n",
    "        print(result,\"\\n\")\n",
    "        self.assertIn(solution, result)\n",
    "        \n",
    "\n",
    "\n",
    "    def testOpenAI(self):\n",
    "        print(\"TEST OpenAI\")\n",
    "        secDataPath = \"../../inputs/SEC-CompanyTicker.csv\"\n",
    "        self.secData = list(pd.read_csv(secDataPath,index_col=0).companyName[:300])\n",
    "        self.secModel = self.getModel(\"OpenAI\",self.secData)\n",
    "        self.SECSearch = runDataset(self.secModel)\n",
    "\n",
    "        solution = \"Microsoft Corp\"\n",
    "        query = \"microsoft\"\n",
    "        result = self.SECSearch.similaritySearch([query],k=3)   \n",
    "        print(\"Solution: %s\\nQuery: %s\" % (solution, query))\n",
    "        print(result,\"\\n\")\n",
    "        self.assertIn(solution, result)\n",
    "\n",
    "        solution = \"Nvidia Corp\"\n",
    "        query = \"nvidia\"\n",
    "        result = self.SECSearch.similaritySearch([query],k=3) \n",
    "        print(\"Solution: %s\\nQuery: %s\" % (solution, query))\n",
    "        print(result,\"\\n\")\n",
    "        self.assertIn(solution, result)\n",
    "\n",
    "    def testBERT(self):\n",
    "        print(\"TEST BERT\")\n",
    "        secDataPath = \"../../inputs/SEC-CompanyTicker.csv\"\n",
    "        self.secData = list(pd.read_csv(secDataPath,index_col=0).companyName[:300])\n",
    "        self.secModel = self.getModel(\"BERT\",self.secData)\n",
    "        self.SECSearch = runDataset(self.secModel)\n",
    "\n",
    "        solution = \"Microsoft Corp\"\n",
    "        query = \"microsoft\"\n",
    "        result = self.SECSearch.similaritySearch([query],k=3)   \n",
    "        print(\"Solution: %s\\nQuery: %s\" % (solution, query))\n",
    "        print(result,\"\\n\")\n",
    "        self.assertIn(solution, result)\n",
    "\n",
    "        solution = \"Nvidia Corp\"\n",
    "        query = \"nvidia\"\n",
    "        result = self.SECSearch.similaritySearch([query],k=3) \n",
    "        print(\"Solution: %s\\nQuery: %s\" % (solution, query))\n",
    "        print(result,\"\\n\")\n",
    "        self.assertIn(solution, result)\n",
    "\n",
    "\n",
    "\n",
    "test = runDatasetTest()\n"
   ]
  },
  {
   "cell_type": "code",
   "execution_count": 74,
   "id": "6b8db32d",
   "metadata": {},
   "outputs": [
    {
     "name": "stdout",
     "output_type": "stream",
     "text": [
      "TEST1\n",
      "epoch 1\n",
      "Solution: Shell Plc\n",
      "Query: Shell\n",
      "['Shell Plc', 'Intel Corp', 'Pfizer Inc'] \n",
      "\n",
      "Solution: Chevron Corp\n",
      "Query: Chevron\n",
      "['Chevron Corp', 'Intel Corp', 'Costco Wholesale Corp /New'] \n",
      "\n"
     ]
    }
   ],
   "source": [
    "test.test1()"
   ]
  },
  {
   "cell_type": "code",
   "execution_count": 76,
   "id": "2f1c89d3",
   "metadata": {},
   "outputs": [
    {
     "name": "stdout",
     "output_type": "stream",
     "text": [
      "TEST 2\n",
      "epoch 1\n",
      "epoch 11\n",
      "Solution: Microsoft Corp\n",
      "Query: microsoft\n",
      "['Microsoft Corp', 'Spdr Gold Trust', 'Spdr S&P 500 Etf Trust'] \n",
      "\n",
      "Solution: Nvidia Corp\n",
      "Query: nvidia\n",
      "['Nvidia Corp', 'Nxp Semiconductors N.V.', 'Tokyo Electron Ltd'] \n",
      "\n"
     ]
    }
   ],
   "source": [
    "test.test2()"
   ]
  },
  {
   "cell_type": "code",
   "execution_count": 72,
   "id": "90d3b88b",
   "metadata": {},
   "outputs": [
    {
     "name": "stdout",
     "output_type": "stream",
     "text": [
      "TEST BERT\n",
      "Solution: Microsoft Corp\n",
      "Query: microsoft\n",
      "['Microsoft Corp', 'Salesforce, Inc.', 'Adobe Inc.'] \n",
      "\n",
      "Solution: Nvidia Corp\n",
      "Query: nvidia\n",
      "['Nvidia Corp', 'Salesforce, Inc.', 'Tesla, Inc.'] \n",
      "\n"
     ]
    }
   ],
   "source": [
    "test.testBERT()"
   ]
  },
  {
   "cell_type": "code",
   "execution_count": 75,
   "id": "c68dda4d",
   "metadata": {},
   "outputs": [
    {
     "name": "stdout",
     "output_type": "stream",
     "text": [
      "TEST OpenAI\n"
     ]
    },
    {
     "name": "stderr",
     "output_type": "stream",
     "text": [
      "huggingface/tokenizers: The current process just got forked, after parallelism has already been used. Disabling parallelism to avoid deadlocks...\n",
      "To disable this warning, you can either:\n",
      "\t- Avoid using `tokenizers` before the fork if possible\n",
      "\t- Explicitly set the environment variable TOKENIZERS_PARALLELISM=(true | false)\n"
     ]
    },
    {
     "name": "stdout",
     "output_type": "stream",
     "text": [
      "Solution: Microsoft Corp\n",
      "Query: microsoft\n",
      "['Microsoft Corp', 'Apple Inc.', 'Adobe Inc.'] \n",
      "\n",
      "Solution: Nvidia Corp\n",
      "Query: nvidia\n",
      "['Nvidia Corp', 'Intel Corp', 'Advanced Micro Devices Inc'] \n",
      "\n"
     ]
    }
   ],
   "source": [
    "test.testOpenAI()"
   ]
  },
  {
   "cell_type": "code",
   "execution_count": null,
   "id": "94779a41",
   "metadata": {},
   "outputs": [],
   "source": [
    "# def getModel(data,epochs):\n",
    "#     return {\n",
    "#         \"name\" : \"Transformer\",\n",
    "#         \"data\" : data,\n",
    "#         \"epochs\": epochs,\n",
    "#         \"api_key\":key\n",
    "#     }\n",
    "    \n",
    "    \n",
    "# secDataPath = \"../../inputs/SEC-CompanyTicker.csv\"\n",
    "# secData = list(pd.read_csv(secDataPath,index_col=0).companyName[:1000])\n",
    "# secModel = getModel(secData, epochs=1)\n",
    "# SECSearch = runDataset(secModel)\n",
    "\n",
    "# solution = \"Shell Plc\"\n",
    "# result = SECSearch.similaritySearch([\"shell\"],k=3)   \n",
    "# print(result)\n",
    "\n",
    "\n",
    "# solution = \"Chevron Corp\"\n",
    "# result = SECSearch.similaritySearch([\"Chevron\"],k=3) \n",
    "# print(result)"
   ]
  }
 ],
 "metadata": {
  "kernelspec": {
   "display_name": "Python 3 (ipykernel)",
   "language": "python",
   "name": "python3"
  },
  "language_info": {
   "codemirror_mode": {
    "name": "ipython",
    "version": 3
   },
   "file_extension": ".py",
   "mimetype": "text/x-python",
   "name": "python",
   "nbconvert_exporter": "python",
   "pygments_lexer": "ipython3",
   "version": "3.9.17"
  }
 },
 "nbformat": 4,
 "nbformat_minor": 5
}
