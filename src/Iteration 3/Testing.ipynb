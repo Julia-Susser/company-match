{
 "cells": [
  {
   "cell_type": "code",
   "execution_count": 50,
   "id": "c45913ee",
   "metadata": {},
   "outputs": [
    {
     "name": "stdout",
     "output_type": "stream",
     "text": [
      "edits\n",
      "edits\n",
      "epoch 1\n",
      "['Shell Plc', 'United Microelectronics Corp', 'Agnico Eagle Mines Ltd']\n",
      "['Chevron Corp', 'Chemed Corp', 'Nice Ltd.']\n"
     ]
    }
   ],
   "source": [
    "import unittest\n",
    "import pandas as pd\n",
    "from dotenv import load_dotenv\n",
    "import os\n",
    "import importlib\n",
    "\n",
    "rundatasetMod = importlib.import_module(\"RunDataset\")\n",
    "transformerMod = importlib.import_module(\"TransformerEmbeddings\")\n",
    "importlib.reload(rundatasetMod)\n",
    "importlib.reload(transformerMod)\n",
    "runDataset = rundatasetMod.runDataset\n",
    "TransformerEmbeddings = transformerMod.TransformerEmbeddings\n",
    "\n",
    "secDataPath = \"../../inputs/SEC-CompanyTicker.csv\"\n",
    "load_dotenv()\n",
    "key = os.environ.get(\"OPENAI_KEY\")\n",
    "\n",
    "\n",
    "def getModel(data,epochs):\n",
    "    return {\n",
    "        \"name\" : \"Transformer\",\n",
    "        \"data\" : data,\n",
    "        \"epochs\": epochs,\n",
    "        \"api_key\":key\n",
    "    }\n",
    "    \n",
    "    \n",
    "secDataPath = \"../../inputs/SEC-CompanyTicker.csv\"\n",
    "secData = list(pd.read_csv(secDataPath,index_col=0).companyName[:1000])\n",
    "secModel = getModel(secData, epochs=1)\n",
    "SECSearch = runDataset(secModel)\n",
    "\n",
    "solution = \"Shell Plc\"\n",
    "result = SECSearch.similaritySearch([\"shell\"],k=3)   \n",
    "print(result)\n",
    "\n",
    "\n",
    "solution = \"Chevron Corp\"\n",
    "result = SECSearch.similaritySearch([\"Chevron\"],k=3) \n",
    "print(result)\n",
    "        \n"
   ]
  },
  {
   "cell_type": "code",
   "execution_count": null,
   "id": "bc7a6d0d",
   "metadata": {},
   "outputs": [],
   "source": []
  }
 ],
 "metadata": {
  "kernelspec": {
   "display_name": "Python 3 (ipykernel)",
   "language": "python",
   "name": "python3"
  },
  "language_info": {
   "codemirror_mode": {
    "name": "ipython",
    "version": 3
   },
   "file_extension": ".py",
   "mimetype": "text/x-python",
   "name": "python",
   "nbconvert_exporter": "python",
   "pygments_lexer": "ipython3",
   "version": "3.9.17"
  }
 },
 "nbformat": 4,
 "nbformat_minor": 5
}
