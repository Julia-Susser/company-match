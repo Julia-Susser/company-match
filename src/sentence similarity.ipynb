{
 "cells": [
  {
   "cell_type": "code",
   "execution_count": 2,
   "id": "f928b45b",
   "metadata": {},
   "outputs": [],
   "source": [
    "# pip install -U sentence-transformers"
   ]
  },
  {
   "cell_type": "code",
   "execution_count": 17,
   "id": "ce03a200",
   "metadata": {},
   "outputs": [],
   "source": [
    "from transformers import AutoTokenizer, AutoModel\n",
    "import torch\n",
    "\n",
    "model_ckpt = \"sentence-transformers/multi-qa-mpnet-base-dot-v1\"\n",
    "device = torch.device(\"cuda:0\" if torch.cuda.is_available() else \"cpu\")\n",
    "\n",
    "class BERTEmbeddings:\n",
    "    def __init__(self):\n",
    "        self.tokenizer = AutoTokenizer.from_pretrained(model_ckpt)\n",
    "        self.model = AutoModel.from_pretrained(model_ckpt)\n",
    "        \n",
    "    #CLS is a special classification token and the last hidden state of BERT Embedding\n",
    "    def cls_pooling(self, model_output):\n",
    "        return model_output.last_hidden_state[:, 0]\n",
    "\n",
    "    #BERT tokenizer of input text\n",
    "    def getBERTEmbeddings(self, text_list):\n",
    "        encoded_input = self.tokenizer(\n",
    "            text_list, padding=True, truncation=True, return_tensors=\"pt\"\n",
    "        )\n",
    "        encoded_input = {k: v.to(device) for k, v in encoded_input.items()}\n",
    "        model_output = self.model(**encoded_input)\n",
    "        return self.cls_pooling(model_output).cpu().detach().numpy()\n",
    "    \n",
    "train = BERTEmbeddings()\n",
    "xb = train.getBERTEmbeddings(data)"
   ]
  },
  {
   "cell_type": "code",
   "execution_count": 26,
   "id": "4a194843",
   "metadata": {},
   "outputs": [],
   "source": [
    "import pandas as pd\n",
    "from sentence_transformers import SentenceTransformer\n",
    "import numpy as np\n",
    "from dotenv import load_dotenv\n",
    "import os\n",
    "from openai import OpenAI\n",
    "\n",
    "\n",
    "class Embeddings(BERTEmbeddings):\n",
    "    def getSentenceTransformerEmbeddings(self,data):\n",
    "        model = SentenceTransformer('all-MiniLM-L6-v2')\n",
    "        return model.encode(data)\n",
    "    def getOpenAIEmbeddings(self,data, api_key):\n",
    "        self.client = OpenAI(api_key=api_key)\n",
    "        values = self.client.embeddings.create(input=data, model='text-embedding-ada-002').data\n",
    "        embeddings = [embedding.embedding for embedding in values]\n",
    "        return np.array(embeddings)\n",
    "    \n",
    "\n"
   ]
  },
  {
   "cell_type": "code",
   "execution_count": 39,
   "id": "51e18e16",
   "metadata": {},
   "outputs": [],
   "source": [
    "import faiss\n",
    "\n",
    "class Faiss:\n",
    "    def __init__(self):\n",
    "        pass\n",
    "\n",
    "    def faiss(self,xb):\n",
    "        d = xb[0].size\n",
    "        M = 32\n",
    "        index = faiss.IndexHNSWFlat(d, M)            \n",
    "        index.hnsw.efConstruction = 40         # Setting the value for efConstruction.\n",
    "        index.hnsw.efSearch = 16               # Setting the value for efSearch.\n",
    "        index.add(xb)\n",
    "        return index\n",
    "    \n",
    "    def query(self,index,xq,k=3):\n",
    "        D, I = index.search(xq, k)   \n",
    "        return D, I\n",
    "    \n",
    "def similaritySearch(index,xq,k=2):\n",
    "    D,I = Faiss().query(index,xq,k=k)\n",
    "    guesses = [[data[guess] for guess in i] for i in I]\n",
    "    return guesses\n"
   ]
  },
  {
   "cell_type": "code",
   "execution_count": 40,
   "id": "9d57d56d",
   "metadata": {},
   "outputs": [
    {
     "name": "stdout",
     "output_type": "stream",
     "text": [
      "here\n"
     ]
    },
    {
     "data": {
      "text/plain": [
       "[['How can I be a good geologist?',\n",
       "  'What are some of the high salary income jobs in the field of biotechnology?'],\n",
       " ['How do I read and find my YouTube comments?',\n",
       "  'How do you get deleted Instagram chats?']]"
      ]
     },
     "execution_count": 40,
     "metadata": {},
     "output_type": "execute_result"
    }
   ],
   "source": [
    "quoraDataPath = \"../../inputs/quora/train.csv\"\n",
    "quoraData = pd.read_csv(quoraDataPath)\n",
    "quoraData = quoraData[quoraData['is_duplicate'] == 1]\n",
    "data = list(quoraData.question1[:100])\n",
    "q = list(quoraData.question2[1:3])\n",
    "\n",
    "model = Embeddings()\n",
    "if True:\n",
    "    xb = model.getSentenceTransformerEmbeddings(data)\n",
    "    xq = model.getSentenceTransformerEmbeddings(q)\n",
    "    print(\"here\")\n",
    "if False: \n",
    "    load_dotenv()\n",
    "    key = os.environ.get(\"OPENAI_KEY\")\n",
    "    xb = model.getOpenAIEmbeddings(data,key)\n",
    "    xq = model.getOpenAIEmbeddings(q,key)\n",
    "if False: \n",
    "    xb = model.getBERTEmbeddings(data)\n",
    "    xq = model.getBERTEmbeddings(q) \n",
    "    \n",
    "index = Faiss().faiss(xb)\n",
    "similaritySearch(index,xq)"
   ]
  },
  {
   "cell_type": "code",
   "execution_count": 41,
   "id": "7ee9e7e7",
   "metadata": {},
   "outputs": [
    {
     "data": {
      "text/plain": [
       "['What should I do to be a great geologist?',\n",
       " 'How can I see all my Youtube comments?']"
      ]
     },
     "execution_count": 41,
     "metadata": {},
     "output_type": "execute_result"
    }
   ],
   "source": [
    "q"
   ]
  },
  {
   "cell_type": "code",
   "execution_count": null,
   "id": "82ecc3e5",
   "metadata": {},
   "outputs": [],
   "source": []
  }
 ],
 "metadata": {
  "kernelspec": {
   "display_name": "Python 3 (ipykernel)",
   "language": "python",
   "name": "python3"
  },
  "language_info": {
   "codemirror_mode": {
    "name": "ipython",
    "version": 3
   },
   "file_extension": ".py",
   "mimetype": "text/x-python",
   "name": "python",
   "nbconvert_exporter": "python",
   "pygments_lexer": "ipython3",
   "version": "3.9.18"
  }
 },
 "nbformat": 4,
 "nbformat_minor": 5
}
