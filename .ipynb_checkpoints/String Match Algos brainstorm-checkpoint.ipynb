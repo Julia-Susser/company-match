{
 "cells": [
  {
   "cell_type": "code",
   "execution_count": 26,
   "id": "53f53514",
   "metadata": {},
   "outputs": [],
   "source": [
    "import numpy as np\n",
    "d = 64                           # dimension\n",
    "nb = 100000                      # database size\n",
    "nq = 10000                       # nb of queries\n",
    "np.random.seed(1234)             # make reproducible\n",
    "xb = np.random.random((nb, d)).astype('float32')\n",
    "xb[:, 0] += np.arange(nb) / 1000.\n",
    "xq = np.random.random((nq, d)).astype('float32')\n",
    "xq[:, 0] += np.arange(nq) / 1000."
   ]
  },
  {
   "cell_type": "code",
   "execution_count": 27,
   "id": "264baba9",
   "metadata": {},
   "outputs": [
    {
     "data": {
      "text/plain": [
       "array([[1.91519454e-01, 6.22108757e-01, 4.37727749e-01, ...,\n",
       "        6.24916732e-01, 4.78093803e-01, 1.95675179e-01],\n",
       "       [3.83317441e-01, 5.38736843e-02, 4.51648414e-01, ...,\n",
       "        1.51395261e-01, 3.35174650e-01, 6.57551765e-01],\n",
       "       [7.53425434e-02, 5.50063960e-02, 3.23194802e-01, ...,\n",
       "        3.44416976e-01, 6.40880406e-01, 1.26205325e-01],\n",
       "       ...,\n",
       "       [1.00811470e+02, 5.90245306e-01, 7.98893511e-01, ...,\n",
       "        3.39859009e-01, 3.01949501e-01, 8.53854537e-01],\n",
       "       [1.00669464e+02, 9.16068792e-01, 9.55078781e-01, ...,\n",
       "        5.95364332e-01, 3.84918079e-02, 1.05637990e-01],\n",
       "       [1.00855637e+02, 5.91134131e-01, 6.78907931e-01, ...,\n",
       "        2.18976989e-01, 6.53015897e-02, 2.17538327e-01]], dtype=float32)"
      ]
     },
     "execution_count": 27,
     "metadata": {},
     "output_type": "execute_result"
    }
   ],
   "source": [
    "xb"
   ]
  },
  {
   "cell_type": "code",
   "execution_count": 28,
   "id": "a9ae561f",
   "metadata": {},
   "outputs": [
    {
     "data": {
      "text/plain": [
       "64"
      ]
     },
     "execution_count": 28,
     "metadata": {},
     "output_type": "execute_result"
    }
   ],
   "source": [
    "d"
   ]
  },
  {
   "cell_type": "code",
   "execution_count": 29,
   "id": "ba1d07fa",
   "metadata": {},
   "outputs": [
    {
     "name": "stdout",
     "output_type": "stream",
     "text": [
      "True\n",
      "100000\n"
     ]
    },
    {
     "data": {
      "text/plain": [
       "(array([[  0, 393, 363,  78],\n",
       "        [  1, 555, 277, 364],\n",
       "        [  2, 304, 101,  13],\n",
       "        [  3, 173,  18, 182],\n",
       "        [  4, 288, 370, 531]]),\n",
       " array([[0.       , 7.1751733, 7.2076297, 7.2511625],\n",
       "        [0.       , 6.323565 , 6.684581 , 6.799946 ],\n",
       "        [0.       , 5.7964087, 6.3917365, 7.2815123],\n",
       "        [0.       , 7.2779055, 7.527987 , 7.6628466],\n",
       "        [0.       , 6.7638035, 7.295121 , 7.368815 ]], dtype=float32))"
      ]
     },
     "execution_count": 29,
     "metadata": {},
     "output_type": "execute_result"
    }
   ],
   "source": [
    "import faiss  \n",
    "\n",
    "#faiss using product quantization for data compression and HNSW for coarse quantizer\n",
    "class Faiss:\n",
    "    def __init__(self):\n",
    "        self.index = faiss.IndexFlatL2(d)   # build the index\n",
    "        print(self.index.is_trained)\n",
    "        self.index.add(xb)                  # add vectors to the index\n",
    "        print(self.index.ntotal)\n",
    "    \n",
    "    def search(self,queries, k=4): # want to see k nearest neighbors\n",
    "        D, I = self.index.search(xb[:5], k)\n",
    "        return I,D\n",
    "\n",
    "\n",
    "\n",
    "    \n",
    "f = Faiss()\n",
    "f.search(xb[:5])"
   ]
  },
  {
   "cell_type": "code",
   "execution_count": 30,
   "id": "70a4de44",
   "metadata": {},
   "outputs": [
    {
     "name": "stdout",
     "output_type": "stream",
     "text": [
      "[[  0 393 363  78]\n",
      " [  1 555 277 364]\n",
      " [  2 304 101  13]\n",
      " [  3 173  18 182]\n",
      " [  4 288 370 531]]\n",
      "[[0.        7.1751733 7.2076297 7.2511625]\n",
      " [0.        6.323565  6.684581  6.799946 ]\n",
      " [0.        5.7964087 6.3917365 7.2815123]\n",
      " [0.        7.2779055 7.527987  7.6628466]\n",
      " [0.        6.7638035 7.295121  7.368815 ]]\n",
      "[[ 381  207  210  477]\n",
      " [ 526  911  142   72]\n",
      " [ 838  527 1290  425]\n",
      " [ 196  184  164  359]\n",
      " [ 526  377  120  425]]\n",
      "[[ 9900 10500  9309  9831]\n",
      " [11055 10895 10812 11321]\n",
      " [11353 11103 10164  9787]\n",
      " [10571 10664 10632  9638]\n",
      " [ 9628  9554 10036  9582]]\n"
     ]
    }
   ],
   "source": [
    "k = 4                          # we want to see 4 nearest neighbors\n",
    "D, I = index.search(xb[:5], k) # sanity check\n",
    "print(I)\n",
    "print(D)\n",
    "D, I = index.search(xq, k)     # actual search\n",
    "print(I[:5])                   # neighbors of the 5 first queries\n",
    "print(I[-5:])                  # neighbors of the 5 last queries"
   ]
  },
  {
   "cell_type": "code",
   "execution_count": 31,
   "id": "d361868d",
   "metadata": {},
   "outputs": [
    {
     "data": {
      "text/plain": [
       "array([[231, 211,  27,  19],\n",
       "       [  5, 229, 242,   2],\n",
       "       [177, 187,  52, 246],\n",
       "       ...,\n",
       "       [109, 104,  33,  32],\n",
       "       [202, 115,  58, 236],\n",
       "       [209, 158, 225, 115]], dtype=uint8)"
      ]
     },
     "execution_count": 31,
     "metadata": {},
     "output_type": "execute_result"
    }
   ],
   "source": [
    "d = 32  # data dimension\n",
    "cs = 4  # code size (bytes)\n",
    "\n",
    "# train set \n",
    "nt = 10000\n",
    "xt = np.random.rand(nt, d).astype('float32')\n",
    "\n",
    "# dataset to encode (could be same as train)\n",
    "n = 20000\n",
    "x = np.random.rand(n, d).astype('float32')\n",
    "\n",
    "pq = faiss.ProductQuantizer(d, cs, 8)\n",
    "pq.train(xt)\n",
    "\n",
    "# encode \n",
    "codes = pq.compute_codes(x)\n",
    "\n",
    "# decode\n",
    "x2 = pq.decode(codes)\n",
    "\n",
    "# compute reconstruction error\n",
    "avg_relative_error = ((x - x2)**2).sum() / (x ** 2).sum()\n",
    "\n",
    "codes"
   ]
  },
  {
   "cell_type": "code",
   "execution_count": 40,
   "id": "f70911b6",
   "metadata": {
    "scrolled": true
   },
   "outputs": [
    {
     "data": {
      "text/html": [
       "<div>\n",
       "<style scoped>\n",
       "    .dataframe tbody tr th:only-of-type {\n",
       "        vertical-align: middle;\n",
       "    }\n",
       "\n",
       "    .dataframe tbody tr th {\n",
       "        vertical-align: top;\n",
       "    }\n",
       "\n",
       "    .dataframe thead th {\n",
       "        text-align: right;\n",
       "    }\n",
       "</style>\n",
       "<table border=\"1\" class=\"dataframe\">\n",
       "  <thead>\n",
       "    <tr style=\"text-align: right;\">\n",
       "      <th></th>\n",
       "      <th>cik_str</th>\n",
       "      <th>ticker</th>\n",
       "      <th>companyName</th>\n",
       "    </tr>\n",
       "  </thead>\n",
       "  <tbody>\n",
       "    <tr>\n",
       "      <th>0</th>\n",
       "      <td>320193</td>\n",
       "      <td>AAPL</td>\n",
       "      <td>Apple Inc.</td>\n",
       "    </tr>\n",
       "    <tr>\n",
       "      <th>1</th>\n",
       "      <td>789019</td>\n",
       "      <td>MSFT</td>\n",
       "      <td>Microsoft Corp</td>\n",
       "    </tr>\n",
       "    <tr>\n",
       "      <th>2</th>\n",
       "      <td>1652044</td>\n",
       "      <td>GOOGL</td>\n",
       "      <td>Alphabet Inc.</td>\n",
       "    </tr>\n",
       "    <tr>\n",
       "      <th>3</th>\n",
       "      <td>1018724</td>\n",
       "      <td>AMZN</td>\n",
       "      <td>Amazon Com Inc</td>\n",
       "    </tr>\n",
       "    <tr>\n",
       "      <th>4</th>\n",
       "      <td>1045810</td>\n",
       "      <td>NVDA</td>\n",
       "      <td>Nvidia Corp</td>\n",
       "    </tr>\n",
       "    <tr>\n",
       "      <th>...</th>\n",
       "      <td>...</td>\n",
       "      <td>...</td>\n",
       "      <td>...</td>\n",
       "    </tr>\n",
       "    <tr>\n",
       "      <th>10893</th>\n",
       "      <td>1945711</td>\n",
       "      <td>LVROW</td>\n",
       "      <td>Lavoro Ltd</td>\n",
       "    </tr>\n",
       "    <tr>\n",
       "      <th>10894</th>\n",
       "      <td>1898795</td>\n",
       "      <td>LVWR-WT</td>\n",
       "      <td>Livewire Group, Inc.</td>\n",
       "    </tr>\n",
       "    <tr>\n",
       "      <th>10895</th>\n",
       "      <td>1837344</td>\n",
       "      <td>MBTCR</td>\n",
       "      <td>Nocturne Acquisition Corp</td>\n",
       "    </tr>\n",
       "    <tr>\n",
       "      <th>10896</th>\n",
       "      <td>1837344</td>\n",
       "      <td>MBTCU</td>\n",
       "      <td>Nocturne Acquisition Corp</td>\n",
       "    </tr>\n",
       "    <tr>\n",
       "      <th>10897</th>\n",
       "      <td>1779474</td>\n",
       "      <td>MAPSW</td>\n",
       "      <td>Wm Technology, Inc.</td>\n",
       "    </tr>\n",
       "  </tbody>\n",
       "</table>\n",
       "<p>10898 rows × 3 columns</p>\n",
       "</div>"
      ],
      "text/plain": [
       "       cik_str   ticker                companyName\n",
       "0       320193     AAPL                 Apple Inc.\n",
       "1       789019     MSFT             Microsoft Corp\n",
       "2      1652044    GOOGL              Alphabet Inc.\n",
       "3      1018724     AMZN             Amazon Com Inc\n",
       "4      1045810     NVDA                Nvidia Corp\n",
       "...        ...      ...                        ...\n",
       "10893  1945711    LVROW                 Lavoro Ltd\n",
       "10894  1898795  LVWR-WT       Livewire Group, Inc.\n",
       "10895  1837344    MBTCR  Nocturne Acquisition Corp\n",
       "10896  1837344    MBTCU  Nocturne Acquisition Corp\n",
       "10897  1779474    MAPSW        Wm Technology, Inc.\n",
       "\n",
       "[10898 rows x 3 columns]"
      ]
     },
     "execution_count": 40,
     "metadata": {},
     "output_type": "execute_result"
    }
   ],
   "source": [
    "import json\n",
    "import pandas as pd\n",
    "import numpy as np\n",
    "\n",
    "\n",
    "def loadData():\n",
    "    file_name = \"company_tickers.json\"\n",
    "    with open(file_name, \"r\") as json_file:\n",
    "        loaded_json_data = json.load(json_file)\n",
    "    df = pd.DataFrame(loaded_json_data)\n",
    "    df = df.transpose()\n",
    "    df.title = df.title.str.title()\n",
    "    df = df.rename({\"title\":\"companyName\"},axis=1)\n",
    "#     df = df[~df.ticker.str.contains('-')]\n",
    "#     df = df.drop_duplicates(subset='Company', keep='first')\n",
    "    df.to_csv(\"SEC-CompanyTicker.csv\")\n",
    "    return df\n",
    "df = loadData()\n",
    "df"
   ]
  },
  {
   "cell_type": "code",
   "execution_count": 33,
   "id": "e7e5e963",
   "metadata": {},
   "outputs": [],
   "source": [
    "from transformers import AutoTokenizer, AutoModel\n",
    "\n",
    "model_ckpt = \"sentence-transformers/multi-qa-mpnet-base-dot-v1\"\n",
    "tokenizer = AutoTokenizer.from_pretrained(model_ckpt)\n",
    "model = AutoModel.from_pretrained(model_ckpt)"
   ]
  },
  {
   "cell_type": "code",
   "execution_count": 36,
   "id": "2ad95105",
   "metadata": {},
   "outputs": [],
   "source": [
    "import torch\n",
    "\n",
    "device = torch.device(\"cuda:0\" if torch.cuda.is_available() else \"cpu\")\n",
    "\n",
    "def cls_pooling(model_output):\n",
    "    return model_output.last_hidden_state[:, 0]\n",
    "\n",
    "\n",
    "def get_embeddings(text_list):\n",
    "    encoded_input = tokenizer(\n",
    "        text_list, padding=True, truncation=True, return_tensors=\"pt\"\n",
    "    )\n",
    "    encoded_input = {k: v.to(device) for k, v in encoded_input.items()}\n",
    "    model_output = model(**encoded_input)\n",
    "    return cls_pooling(model_output)"
   ]
  },
  {
   "cell_type": "code",
   "execution_count": 39,
   "id": "99323db1",
   "metadata": {},
   "outputs": [
    {
     "data": {
      "text/plain": [
       "torch.Size([2, 768])"
      ]
     },
     "execution_count": 39,
     "metadata": {},
     "output_type": "execute_result"
    }
   ],
   "source": [
    "embedding = get_embeddings([\"julia\",\"hi\"])\n",
    "embedding.shape"
   ]
  },
  {
   "cell_type": "code",
   "execution_count": 85,
   "id": "b6d6e423",
   "metadata": {},
   "outputs": [],
   "source": [
    "df = df.head(100)"
   ]
  },
  {
   "cell_type": "code",
   "execution_count": 86,
   "id": "f7e634cd",
   "metadata": {},
   "outputs": [
    {
     "data": {
      "application/vnd.jupyter.widget-view+json": {
       "model_id": "d16ec467fcb84ff9a789fb5ec1e39e89",
       "version_major": 2,
       "version_minor": 0
      },
      "text/plain": [
       "Map:   0%|          | 0/100 [00:00<?, ? examples/s]"
      ]
     },
     "metadata": {},
     "output_type": "display_data"
    }
   ],
   "source": [
    "\n",
    "dataset = Dataset.from_pandas(df)\n",
    "\n",
    "embeddings_dataset = dataset.map(\n",
    "    lambda x: {\"embeddings\": get_embeddings(x[\"companyName\"]).detach().cpu().numpy()[0]}\n",
    ")"
   ]
  },
  {
   "cell_type": "code",
   "execution_count": 87,
   "id": "12aaba87",
   "metadata": {},
   "outputs": [
    {
     "data": {
      "application/vnd.jupyter.widget-view+json": {
       "model_id": "43918533738b46f797bd5488017f00f6",
       "version_major": 2,
       "version_minor": 0
      },
      "text/plain": [
       "  0%|          | 0/1 [00:00<?, ?it/s]"
      ]
     },
     "metadata": {},
     "output_type": "display_data"
    },
    {
     "data": {
      "text/plain": [
       "Dataset({\n",
       "    features: ['cik_str', 'ticker', 'companyName', '__index_level_0__', 'embeddings'],\n",
       "    num_rows: 100\n",
       "})"
      ]
     },
     "execution_count": 87,
     "metadata": {},
     "output_type": "execute_result"
    }
   ],
   "source": [
    "embeddings_dataset.add_faiss_index(column=\"embeddings\")"
   ]
  },
  {
   "cell_type": "code",
   "execution_count": 103,
   "id": "fb4054de",
   "metadata": {},
   "outputs": [
    {
     "data": {
      "text/plain": [
       "(1, 768)"
      ]
     },
     "execution_count": 103,
     "metadata": {},
     "output_type": "execute_result"
    }
   ],
   "source": [
    "question = \"Coca\"\n",
    "question_embedding = get_embeddings([question]).cpu().detach().numpy()\n",
    "question_embedding.shape"
   ]
  },
  {
   "cell_type": "code",
   "execution_count": 104,
   "id": "c7e8258b",
   "metadata": {},
   "outputs": [],
   "source": [
    "scores, samples = embeddings_dataset.get_nearest_examples(\n",
    "    \"embeddings\", question_embedding, k=5\n",
    ")"
   ]
  },
  {
   "cell_type": "code",
   "execution_count": 105,
   "id": "d737f927",
   "metadata": {},
   "outputs": [],
   "source": [
    "import pandas as pd\n",
    "\n",
    "samples_df = pd.DataFrame.from_dict(samples)\n",
    "samples_df[\"scores\"] = scores\n",
    "samples_df.sort_values(\"scores\", ascending=False, inplace=True)"
   ]
  },
  {
   "cell_type": "code",
   "execution_count": 106,
   "id": "df214542",
   "metadata": {},
   "outputs": [
    {
     "name": "stdout",
     "output_type": "stream",
     "text": [
      "COMMENT: Caterpillar Inc\n",
      "\n",
      "COMMENT: Alphabet Inc.\n",
      "\n",
      "COMMENT: Walt Disney Co\n",
      "\n",
      "COMMENT: Pepsico Inc\n",
      "\n",
      "COMMENT: Coca Cola Co\n",
      "\n"
     ]
    }
   ],
   "source": [
    "for _, row in samples_df.iterrows():\n",
    "    print(f\"COMMENT: {row.companyName}\")\n",
    "    print()"
   ]
  },
  {
   "cell_type": "code",
   "execution_count": 97,
   "id": "c0a8af88",
   "metadata": {},
   "outputs": [
    {
     "data": {
      "text/html": [
       "<div>\n",
       "<style scoped>\n",
       "    .dataframe tbody tr th:only-of-type {\n",
       "        vertical-align: middle;\n",
       "    }\n",
       "\n",
       "    .dataframe tbody tr th {\n",
       "        vertical-align: top;\n",
       "    }\n",
       "\n",
       "    .dataframe thead th {\n",
       "        text-align: right;\n",
       "    }\n",
       "</style>\n",
       "<table border=\"1\" class=\"dataframe\">\n",
       "  <thead>\n",
       "    <tr style=\"text-align: right;\">\n",
       "      <th></th>\n",
       "      <th>cik_str</th>\n",
       "      <th>ticker</th>\n",
       "      <th>companyName</th>\n",
       "      <th>__index_level_0__</th>\n",
       "      <th>embeddings</th>\n",
       "      <th>scores</th>\n",
       "    </tr>\n",
       "  </thead>\n",
       "  <tbody>\n",
       "    <tr>\n",
       "      <th>4</th>\n",
       "      <td>50863</td>\n",
       "      <td>INTC</td>\n",
       "      <td>Intel Corp</td>\n",
       "      <td>54</td>\n",
       "      <td>[0.06933523714542389, -0.23722538352012634, -0...</td>\n",
       "      <td>18.959095</td>\n",
       "    </tr>\n",
       "    <tr>\n",
       "      <th>3</th>\n",
       "      <td>896878</td>\n",
       "      <td>INTU</td>\n",
       "      <td>Intuit Inc.</td>\n",
       "      <td>59</td>\n",
       "      <td>[-0.07939024269580841, -0.45380669832229614, -...</td>\n",
       "      <td>18.394699</td>\n",
       "    </tr>\n",
       "    <tr>\n",
       "      <th>2</th>\n",
       "      <td>1108524</td>\n",
       "      <td>CRM</td>\n",
       "      <td>Salesforce, Inc.</td>\n",
       "      <td>37</td>\n",
       "      <td>[0.15066705644130707, -0.26614394783973694, -0...</td>\n",
       "      <td>17.476484</td>\n",
       "    </tr>\n",
       "    <tr>\n",
       "      <th>1</th>\n",
       "      <td>1730168</td>\n",
       "      <td>AVGO</td>\n",
       "      <td>Broadcom Inc.</td>\n",
       "      <td>21</td>\n",
       "      <td>[0.024646926671266556, -0.6132085919380188, -0...</td>\n",
       "      <td>16.711088</td>\n",
       "    </tr>\n",
       "    <tr>\n",
       "      <th>0</th>\n",
       "      <td>320193</td>\n",
       "      <td>AAPL</td>\n",
       "      <td>Apple Inc.</td>\n",
       "      <td>0</td>\n",
       "      <td>[0.04409850016236305, -0.3003808557987213, -0....</td>\n",
       "      <td>0.000000</td>\n",
       "    </tr>\n",
       "  </tbody>\n",
       "</table>\n",
       "</div>"
      ],
      "text/plain": [
       "   cik_str ticker       companyName __index_level_0__  \\\n",
       "4    50863   INTC        Intel Corp                54   \n",
       "3   896878   INTU       Intuit Inc.                59   \n",
       "2  1108524    CRM  Salesforce, Inc.                37   \n",
       "1  1730168   AVGO     Broadcom Inc.                21   \n",
       "0   320193   AAPL        Apple Inc.                 0   \n",
       "\n",
       "                                          embeddings     scores  \n",
       "4  [0.06933523714542389, -0.23722538352012634, -0...  18.959095  \n",
       "3  [-0.07939024269580841, -0.45380669832229614, -...  18.394699  \n",
       "2  [0.15066705644130707, -0.26614394783973694, -0...  17.476484  \n",
       "1  [0.024646926671266556, -0.6132085919380188, -0...  16.711088  \n",
       "0  [0.04409850016236305, -0.3003808557987213, -0....   0.000000  "
      ]
     },
     "execution_count": 97,
     "metadata": {},
     "output_type": "execute_result"
    }
   ],
   "source": [
    "samples_df"
   ]
  },
  {
   "cell_type": "code",
   "execution_count": 98,
   "id": "f9100680",
   "metadata": {},
   "outputs": [
    {
     "data": {
      "text/html": [
       "<div>\n",
       "<style scoped>\n",
       "    .dataframe tbody tr th:only-of-type {\n",
       "        vertical-align: middle;\n",
       "    }\n",
       "\n",
       "    .dataframe tbody tr th {\n",
       "        vertical-align: top;\n",
       "    }\n",
       "\n",
       "    .dataframe thead th {\n",
       "        text-align: right;\n",
       "    }\n",
       "</style>\n",
       "<table border=\"1\" class=\"dataframe\">\n",
       "  <thead>\n",
       "    <tr style=\"text-align: right;\">\n",
       "      <th></th>\n",
       "      <th>cik_str</th>\n",
       "      <th>ticker</th>\n",
       "      <th>companyName</th>\n",
       "    </tr>\n",
       "  </thead>\n",
       "  <tbody>\n",
       "    <tr>\n",
       "      <th>0</th>\n",
       "      <td>320193</td>\n",
       "      <td>AAPL</td>\n",
       "      <td>Apple Inc.</td>\n",
       "    </tr>\n",
       "    <tr>\n",
       "      <th>1</th>\n",
       "      <td>789019</td>\n",
       "      <td>MSFT</td>\n",
       "      <td>Microsoft Corp</td>\n",
       "    </tr>\n",
       "    <tr>\n",
       "      <th>2</th>\n",
       "      <td>1652044</td>\n",
       "      <td>GOOGL</td>\n",
       "      <td>Alphabet Inc.</td>\n",
       "    </tr>\n",
       "    <tr>\n",
       "      <th>3</th>\n",
       "      <td>1018724</td>\n",
       "      <td>AMZN</td>\n",
       "      <td>Amazon Com Inc</td>\n",
       "    </tr>\n",
       "    <tr>\n",
       "      <th>4</th>\n",
       "      <td>1045810</td>\n",
       "      <td>NVDA</td>\n",
       "      <td>Nvidia Corp</td>\n",
       "    </tr>\n",
       "    <tr>\n",
       "      <th>...</th>\n",
       "      <td>...</td>\n",
       "      <td>...</td>\n",
       "      <td>...</td>\n",
       "    </tr>\n",
       "    <tr>\n",
       "      <th>95</th>\n",
       "      <td>1075531</td>\n",
       "      <td>BKNG</td>\n",
       "      <td>Booking Holdings Inc.</td>\n",
       "    </tr>\n",
       "    <tr>\n",
       "      <th>96</th>\n",
       "      <td>829224</td>\n",
       "      <td>SBUX</td>\n",
       "      <td>Starbucks Corp</td>\n",
       "    </tr>\n",
       "    <tr>\n",
       "      <th>97</th>\n",
       "      <td>1668717</td>\n",
       "      <td>BUD</td>\n",
       "      <td>Anheuser-Busch Inbev Sa/Nv</td>\n",
       "    </tr>\n",
       "    <tr>\n",
       "      <th>98</th>\n",
       "      <td>947263</td>\n",
       "      <td>TD</td>\n",
       "      <td>Toronto Dominion Bank</td>\n",
       "    </tr>\n",
       "    <tr>\n",
       "      <th>99</th>\n",
       "      <td>101829</td>\n",
       "      <td>RTX</td>\n",
       "      <td>Rtx Corp</td>\n",
       "    </tr>\n",
       "  </tbody>\n",
       "</table>\n",
       "<p>100 rows × 3 columns</p>\n",
       "</div>"
      ],
      "text/plain": [
       "    cik_str ticker                 companyName\n",
       "0    320193   AAPL                  Apple Inc.\n",
       "1    789019   MSFT              Microsoft Corp\n",
       "2   1652044  GOOGL               Alphabet Inc.\n",
       "3   1018724   AMZN              Amazon Com Inc\n",
       "4   1045810   NVDA                 Nvidia Corp\n",
       "..      ...    ...                         ...\n",
       "95  1075531   BKNG       Booking Holdings Inc.\n",
       "96   829224   SBUX              Starbucks Corp\n",
       "97  1668717    BUD  Anheuser-Busch Inbev Sa/Nv\n",
       "98   947263     TD       Toronto Dominion Bank\n",
       "99   101829    RTX                    Rtx Corp\n",
       "\n",
       "[100 rows x 3 columns]"
      ]
     },
     "execution_count": 98,
     "metadata": {},
     "output_type": "execute_result"
    }
   ],
   "source": [
    "df"
   ]
  },
  {
   "cell_type": "code",
   "execution_count": null,
   "id": "d932a7b6",
   "metadata": {},
   "outputs": [],
   "source": [
    "class Faiss:\n",
    "    def __init__(self):\n",
    "        pass\n",
    "    \n",
    "    \n",
    "    #convert dataset into embeddings dataset to run FAISS\n",
    "    def makeEmbeddings(self,dataset){\n",
    "        \n",
    "    }\n",
    "    \n",
    "    # run faiss model on dataset\n",
    "    def faiss(self,embeddings_dataset){\n",
    "        \n",
    "    }\n",
    "    \n",
    "    #get query embedding\n",
    "    def getQueryEmbedding(self, query){\n",
    "        \n",
    "    }\n",
    "    \n",
    "    #predict 4 nearest neighbors\n",
    "    def predict(self,query,k=4){\n",
    "        \n",
    "    }"
   ]
  }
 ],
 "metadata": {
  "kernelspec": {
   "display_name": "Python 3 (ipykernel)",
   "language": "python",
   "name": "python3"
  },
  "language_info": {
   "codemirror_mode": {
    "name": "ipython",
    "version": 3
   },
   "file_extension": ".py",
   "mimetype": "text/x-python",
   "name": "python",
   "nbconvert_exporter": "python",
   "pygments_lexer": "ipython3",
   "version": "3.9.17"
  }
 },
 "nbformat": 4,
 "nbformat_minor": 5
}
