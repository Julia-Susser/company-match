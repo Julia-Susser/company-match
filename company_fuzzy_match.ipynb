{
 "cells": [
  {
   "cell_type": "markdown",
   "metadata": {},
   "source": [
    "### Fuzzy String Matcher (Basic)"
   ]
  },
  {
   "cell_type": "code",
   "execution_count": null,
   "metadata": {},
   "outputs": [],
   "source": [
    "import pandas as pd\n",
    "import numpy as np\n",
    "from string_grouper import match_strings, match_most_similar, \\\n",
    "\tgroup_similar_strings, compute_pairwise_similarities, \\\n",
    "\tStringGrouper\n",
    "import cleanco"
   ]
  },
  {
   "cell_type": "code",
   "execution_count": null,
   "metadata": {},
   "outputs": [],
   "source": [
    "## directory info\n",
    "rootDataPath = 'INSERT YOUR FILEPATH HERE'"
   ]
  },
  {
   "cell_type": "code",
   "execution_count": null,
   "metadata": {},
   "outputs": [],
   "source": [
    "## file read\n",
    "matchlist = pd.read_csv(f'{rootDataPath}company_matches_pre_cleaning.csv')"
   ]
  },
  {
   "cell_type": "code",
   "execution_count": null,
   "metadata": {},
   "outputs": [],
   "source": [
    "## establish reference list for all matches to be matched against\n",
    "ref_list = matchlist[['companyId','companyName']].drop_duplicates().copy()\n",
    "\n",
    "## remove the following words from the company names\n",
    "pattern = '|'.join(['-','_','technologies','technology','pharmaceuticals','partners', 'international',\n",
    "'financial services','management','consulting','industries','entertainment', 'enterprises','com'\n",
    "'networks','life sciences','capital markets','communications','resources','healthcare','therapeutics','health care'])\n",
    "\n",
    "## replace those words\n",
    "ref_list['dehyphenName'] = ref_list.companyName.str.replace(pattern,' ')\n",
    "\n",
    "## apply company name cleaning\n",
    "ref_list['cleanMain'] = ref_list.apply(lambda x: cleanco.basename(x.dehyphenName), axis=1)"
   ]
  },
  {
   "cell_type": "code",
   "execution_count": null,
   "metadata": {},
   "outputs": [],
   "source": [
    "## establish list of companies to be matched (the reference list is where we'll be matching them)\n",
    "to_match_list = matchlist[['companyName2']].drop_duplicates().copy().astype(str)\n",
    "to_match_list['dehyphenName'] = to_match_list.companyName2.str.replace(pattern, ' ')\n",
    "to_match_list['cleanToMatch'] = to_match_list.apply(lambda x: cleanco.basename(x.dehyphenName), axis=1)"
   ]
  },
  {
   "cell_type": "code",
   "execution_count": null,
   "metadata": {},
   "outputs": [],
   "source": [
    "## break apart the match list to speed things up into blocks of 600k\n",
    "matchlists_chunks = [to_match_list.cleanToMatch[0:600000].copy(), to_match_list.cleanToMatch[600000:1200000].copy(), to_match_list.cleanToMatch[1200000:].copy()]\n",
    "matchlists_chunks = [item.astype(str) for item in matchlists_chunks]"
   ]
  },
  {
   "cell_type": "code",
   "execution_count": null,
   "metadata": {},
   "outputs": [],
   "source": [
    "## test to check similarity threshold. going with 0.67 for now.\n",
    "matches1 = match_strings(ref_list.cleanMain, matchlists_chunks[0], n_blocks='auto', min_similarity=0.67)\n",
    "matches1.sort_values(by='similarity', ascending=True).head(20)"
   ]
  },
  {
   "cell_type": "code",
   "execution_count": null,
   "metadata": {},
   "outputs": [],
   "source": [
    "## concatenate all of the matches\n",
    "matches = pd.concat([match_strings(ref_list.cleanMain, item, n_blocks='auto', min_similarity=0.67) for item in matchlists_chunks], axis=0, ignore_index=True)\n",
    "matches.sort_values(by='similarity', ascending=False)"
   ]
  },
  {
   "cell_type": "code",
   "execution_count": 90,
   "metadata": {},
   "outputs": [],
   "source": [
    "def retrieveData():\n",
    "    url = \"https://www.sec.gov/files/company_tickers.json\"\n",
    "    response = requests.get(url)\n",
    "    json_data = response.json()\n",
    "    file_name = \"company_tickers.json\"\n",
    "    with open(file_name, \"w\") as json_file:\n",
    "        json.dump(json_data, json_file)\n",
    "    print(f\"JSON data saved to {file_name}\")\n",
    "\n",
    "def loadData():\n",
    "    file_name = \"company_tickers.json\"\n",
    "    with open(file_name, \"r\") as json_file:\n",
    "        loaded_json_data = json.load(json_file)\n",
    "    df = pd.DataFrame(loaded_json_data)\n",
    "    df = df.transpose()\n",
    "    df.title = df.title.str.title()\n",
    "    df = df.rename({\"title\":\"Company\"},axis=1)\n",
    "    df = df[~df.ticker.str.contains('-')]\n",
    "    df = df.drop_duplicates(subset='Company', keep='first')\n",
    "    df.to_csv(\"SEC-CompanyTicker.csv\")\n",
    "    return df\n",
    "df = loadData()\n"
   ]
  },
  {
   "cell_type": "code",
   "execution_count": 94,
   "metadata": {},
   "outputs": [
    {
     "data": {
      "text/html": [
       "<div>\n",
       "<style scoped>\n",
       "    .dataframe tbody tr th:only-of-type {\n",
       "        vertical-align: middle;\n",
       "    }\n",
       "\n",
       "    .dataframe tbody tr th {\n",
       "        vertical-align: top;\n",
       "    }\n",
       "\n",
       "    .dataframe thead th {\n",
       "        text-align: right;\n",
       "    }\n",
       "</style>\n",
       "<table border=\"1\" class=\"dataframe\">\n",
       "  <thead>\n",
       "    <tr style=\"text-align: right;\">\n",
       "      <th></th>\n",
       "      <th>cik_str</th>\n",
       "      <th>ticker</th>\n",
       "      <th>Company</th>\n",
       "    </tr>\n",
       "  </thead>\n",
       "  <tbody>\n",
       "    <tr>\n",
       "      <th>3682</th>\n",
       "      <td>1403256</td>\n",
       "      <td>SCU</td>\n",
       "      <td>Sculptor Capital Management, Inc.</td>\n",
       "    </tr>\n",
       "  </tbody>\n",
       "</table>\n",
       "</div>"
      ],
      "text/plain": [
       "      cik_str ticker                            Company\n",
       "3682  1403256    SCU  Sculptor Capital Management, Inc."
      ]
     },
     "execution_count": 94,
     "metadata": {},
     "output_type": "execute_result"
    }
   ],
   "source": [
    "df[df.Company.str.contains(\"Sculptor\")]"
   ]
  },
  {
   "cell_type": "code",
   "execution_count": 86,
   "metadata": {},
   "outputs": [],
   "source": [
    "from sentence_transformers import SentenceTransformer\n",
    "import faiss\n",
    "import requests\n",
    "import json\n",
    "import pandas as pd\n",
    "import numpy as np\n",
    "companyNames = pd.read_csv(\"SEC-Data.csv\")\n",
    "companyNames = pd.DataFrame({\"Company\":[\"Wells Fargo\",\"Sculptor\"]}) \n",
    "\n",
    "\n",
    "class Similarity:  \n",
    "    def __init__(self):\n",
    "        self.possibleCompanies = pd.read_csv(\"SEC-CompanyTicker.csv\",index_col=0)\n",
    "\n",
    "        \n",
    "    def TrainFaiss(self):\n",
    "        self.encoder = SentenceTransformer(\"paraphrase-mpnet-base-v2\")\n",
    "        vectors = self.encoder.encode(list(self.possibleCompanies.Company))\n",
    "        vector_dimension = vectors.shape[1]\n",
    "        self.index = faiss.IndexFlatL2(vector_dimension)\n",
    "        faiss.normalize_L2(vectors)\n",
    "        self.index.add(vectors)\n",
    "        \n",
    "    def getCompanyMatch(self, companyNames):\n",
    "        matches = []\n",
    "        for company in companyNames[\"Company\"]:\n",
    "            match = self.predict(company)\n",
    "            matches.append(match)\n",
    "        companyNames[\"Matches\"] = matches\n",
    "        companyNames = pd.merge(companyNames, self.possibleCompanies, left_on=\"Matches\", right_on=\"Company\")\n",
    "        return companyNames\n",
    "            \n",
    "    def predict(self,search_text):\n",
    "        search_vector = self.encoder.encode(search_text)\n",
    "        _vector = np.array([search_vector])\n",
    "        faiss.normalize_L2(_vector)\n",
    "        k = self.index.ntotal\n",
    "        distances, ann = self.index.search(_vector, k=k)\n",
    "        return self.possibleCompanies.Company[ann[0][0]]\n",
    "    \n",
    "    "
   ]
  },
  {
   "cell_type": "code",
   "execution_count": 87,
   "metadata": {},
   "outputs": [],
   "source": [
    "\n",
    "matcher = Similarity()\n"
   ]
  },
  {
   "cell_type": "code",
   "execution_count": 88,
   "metadata": {},
   "outputs": [],
   "source": [
    "matcher.TrainFaiss()\n"
   ]
  },
  {
   "cell_type": "code",
   "execution_count": 95,
   "metadata": {},
   "outputs": [
    {
     "data": {
      "text/html": [
       "<div>\n",
       "<style scoped>\n",
       "    .dataframe tbody tr th:only-of-type {\n",
       "        vertical-align: middle;\n",
       "    }\n",
       "\n",
       "    .dataframe tbody tr th {\n",
       "        vertical-align: top;\n",
       "    }\n",
       "\n",
       "    .dataframe thead th {\n",
       "        text-align: right;\n",
       "    }\n",
       "</style>\n",
       "<table border=\"1\" class=\"dataframe\">\n",
       "  <thead>\n",
       "    <tr style=\"text-align: right;\">\n",
       "      <th></th>\n",
       "      <th>Company_x</th>\n",
       "      <th>Matches</th>\n",
       "      <th>cik_str</th>\n",
       "      <th>ticker</th>\n",
       "      <th>Company_y</th>\n",
       "    </tr>\n",
       "  </thead>\n",
       "  <tbody>\n",
       "    <tr>\n",
       "      <th>0</th>\n",
       "      <td>Wells Fargo</td>\n",
       "      <td>Totalenergies Se</td>\n",
       "      <td>879764</td>\n",
       "      <td>TTE</td>\n",
       "      <td>Totalenergies Se</td>\n",
       "    </tr>\n",
       "    <tr>\n",
       "      <th>1</th>\n",
       "      <td>Sculptor</td>\n",
       "      <td>Southport Acquisition Corp</td>\n",
       "      <td>1865200</td>\n",
       "      <td>PORT</td>\n",
       "      <td>Southport Acquisition Corp</td>\n",
       "    </tr>\n",
       "  </tbody>\n",
       "</table>\n",
       "</div>"
      ],
      "text/plain": [
       "     Company_x                     Matches  cik_str ticker  \\\n",
       "0  Wells Fargo            Totalenergies Se   879764    TTE   \n",
       "1     Sculptor  Southport Acquisition Corp  1865200   PORT   \n",
       "\n",
       "                    Company_y  \n",
       "0            Totalenergies Se  \n",
       "1  Southport Acquisition Corp  "
      ]
     },
     "execution_count": 95,
     "metadata": {},
     "output_type": "execute_result"
    }
   ],
   "source": [
    "matcher.getCompanyMatch(companyNames)"
   ]
  },
  {
   "cell_type": "code",
   "execution_count": 96,
   "metadata": {},
   "outputs": [
    {
     "data": {
      "text/plain": [
       "'Southport Acquisition Corp'"
      ]
     },
     "execution_count": 96,
     "metadata": {},
     "output_type": "execute_result"
    }
   ],
   "source": [
    "matcher.predict(\"Sculptor\")"
   ]
  },
  {
   "cell_type": "code",
   "execution_count": 50,
   "metadata": {},
   "outputs": [],
   "source": [
    "df = pd.read_csv(\"SEC-Data.csv\",index_col=0)\n",
    "\n",
    "matches = matcher.getCompanyMatch(df)"
   ]
  },
  {
   "cell_type": "code",
   "execution_count": 49,
   "metadata": {},
   "outputs": [
    {
     "data": {
      "text/html": [
       "<div>\n",
       "<style scoped>\n",
       "    .dataframe tbody tr th:only-of-type {\n",
       "        vertical-align: middle;\n",
       "    }\n",
       "\n",
       "    .dataframe tbody tr th {\n",
       "        vertical-align: top;\n",
       "    }\n",
       "\n",
       "    .dataframe thead th {\n",
       "        text-align: right;\n",
       "    }\n",
       "</style>\n",
       "<table border=\"1\" class=\"dataframe\">\n",
       "  <thead>\n",
       "    <tr style=\"text-align: right;\">\n",
       "      <th></th>\n",
       "      <th>cik_str</th>\n",
       "      <th>ticker</th>\n",
       "      <th>Companies</th>\n",
       "    </tr>\n",
       "  </thead>\n",
       "  <tbody>\n",
       "    <tr>\n",
       "      <th>0</th>\n",
       "      <td>320193</td>\n",
       "      <td>AAPL</td>\n",
       "      <td>Apple Inc.</td>\n",
       "    </tr>\n",
       "    <tr>\n",
       "      <th>1</th>\n",
       "      <td>789019</td>\n",
       "      <td>MSFT</td>\n",
       "      <td>Microsoft Corp</td>\n",
       "    </tr>\n",
       "    <tr>\n",
       "      <th>2</th>\n",
       "      <td>1652044</td>\n",
       "      <td>GOOGL</td>\n",
       "      <td>Alphabet Inc.</td>\n",
       "    </tr>\n",
       "    <tr>\n",
       "      <th>3</th>\n",
       "      <td>1018724</td>\n",
       "      <td>AMZN</td>\n",
       "      <td>Amazon Com Inc</td>\n",
       "    </tr>\n",
       "    <tr>\n",
       "      <th>4</th>\n",
       "      <td>1045810</td>\n",
       "      <td>NVDA</td>\n",
       "      <td>Nvidia Corp</td>\n",
       "    </tr>\n",
       "    <tr>\n",
       "      <th>...</th>\n",
       "      <td>...</td>\n",
       "      <td>...</td>\n",
       "      <td>...</td>\n",
       "    </tr>\n",
       "    <tr>\n",
       "      <th>10893</th>\n",
       "      <td>1945711</td>\n",
       "      <td>LVROW</td>\n",
       "      <td>Lavoro Ltd</td>\n",
       "    </tr>\n",
       "    <tr>\n",
       "      <th>10894</th>\n",
       "      <td>1898795</td>\n",
       "      <td>LVWR-WT</td>\n",
       "      <td>Livewire Group, Inc.</td>\n",
       "    </tr>\n",
       "    <tr>\n",
       "      <th>10895</th>\n",
       "      <td>1837344</td>\n",
       "      <td>MBTCR</td>\n",
       "      <td>Nocturne Acquisition Corp</td>\n",
       "    </tr>\n",
       "    <tr>\n",
       "      <th>10896</th>\n",
       "      <td>1837344</td>\n",
       "      <td>MBTCU</td>\n",
       "      <td>Nocturne Acquisition Corp</td>\n",
       "    </tr>\n",
       "    <tr>\n",
       "      <th>10897</th>\n",
       "      <td>1779474</td>\n",
       "      <td>MAPSW</td>\n",
       "      <td>Wm Technology, Inc.</td>\n",
       "    </tr>\n",
       "  </tbody>\n",
       "</table>\n",
       "<p>10898 rows × 3 columns</p>\n",
       "</div>"
      ],
      "text/plain": [
       "       cik_str   ticker                  Companies\n",
       "0       320193     AAPL                 Apple Inc.\n",
       "1       789019     MSFT             Microsoft Corp\n",
       "2      1652044    GOOGL              Alphabet Inc.\n",
       "3      1018724     AMZN             Amazon Com Inc\n",
       "4      1045810     NVDA                Nvidia Corp\n",
       "...        ...      ...                        ...\n",
       "10893  1945711    LVROW                 Lavoro Ltd\n",
       "10894  1898795  LVWR-WT       Livewire Group, Inc.\n",
       "10895  1837344    MBTCR  Nocturne Acquisition Corp\n",
       "10896  1837344    MBTCU  Nocturne Acquisition Corp\n",
       "10897  1779474    MAPSW        Wm Technology, Inc.\n",
       "\n",
       "[10898 rows x 3 columns]"
      ]
     },
     "execution_count": 49,
     "metadata": {},
     "output_type": "execute_result"
    }
   ],
   "source": [
    "matcher.loadData()"
   ]
  },
  {
   "cell_type": "code",
   "execution_count": 98,
   "metadata": {},
   "outputs": [],
   "source": [
    "\n",
    "possibleCompanies = pd.read_csv(\"SEC-CompanyTicker.csv\",index_col=0)\n",
    "\n",
    "encoder = SentenceTransformer(\"paraphrase-mpnet-base-v2\")\n",
    "vectors = encoder.encode(list(possibleCompanies.Company))\n",
    "vector_dimension = vectors.shape[1]\n",
    "index = faiss.IndexFlatL2(vector_dimension)\n",
    "faiss.normalize_L2(vectors)\n",
    "index.add(vectors)\n"
   ]
  },
  {
   "cell_type": "code",
   "execution_count": 102,
   "metadata": {},
   "outputs": [
    {
     "data": {
      "text/plain": [
       "array([[0.7488366, 1.1460173, 1.1958046, ..., 2.1808012, 2.196936 ,\n",
       "        2.221943 ]], dtype=float32)"
      ]
     },
     "execution_count": 102,
     "metadata": {},
     "output_type": "execute_result"
    }
   ],
   "source": [
    " search_vector = encoder.encode(\"Sculptor\")\n",
    "_vector = np.array([search_vector])\n",
    "faiss.normalize_L2(_vector)\n",
    "k = index.ntotal\n",
    "distances, ann = index.search(_vector, k=k)\n",
    "distances"
   ]
  },
  {
   "cell_type": "code",
   "execution_count": 114,
   "metadata": {},
   "outputs": [
    {
     "data": {
      "text/html": [
       "<div>\n",
       "<style scoped>\n",
       "    .dataframe tbody tr th:only-of-type {\n",
       "        vertical-align: middle;\n",
       "    }\n",
       "\n",
       "    .dataframe tbody tr th {\n",
       "        vertical-align: top;\n",
       "    }\n",
       "\n",
       "    .dataframe thead th {\n",
       "        text-align: right;\n",
       "    }\n",
       "</style>\n",
       "<table border=\"1\" class=\"dataframe\">\n",
       "  <thead>\n",
       "    <tr style=\"text-align: right;\">\n",
       "      <th></th>\n",
       "      <th>cik_str</th>\n",
       "      <th>ticker</th>\n",
       "      <th>Company</th>\n",
       "    </tr>\n",
       "  </thead>\n",
       "  <tbody>\n",
       "    <tr>\n",
       "      <th>7064</th>\n",
       "      <td>1617669</td>\n",
       "      <td>UFAB</td>\n",
       "      <td>Unique Fabricating, Inc.</td>\n",
       "    </tr>\n",
       "  </tbody>\n",
       "</table>\n",
       "</div>"
      ],
      "text/plain": [
       "      cik_str ticker                   Company\n",
       "7064  1617669   UFAB  Unique Fabricating, Inc."
      ]
     },
     "execution_count": 114,
     "metadata": {},
     "output_type": "execute_result"
    }
   ],
   "source": [
    "possibleCompanies.iloc[[ann[0][2]]]"
   ]
  },
  {
   "cell_type": "code",
   "execution_count": 111,
   "metadata": {},
   "outputs": [
    {
     "data": {
      "text/plain": [
       "8326"
      ]
     },
     "execution_count": 111,
     "metadata": {},
     "output_type": "execute_result"
    }
   ],
   "source": [
    "k"
   ]
  },
  {
   "cell_type": "code",
   "execution_count": 109,
   "metadata": {},
   "outputs": [
    {
     "data": {
      "text/plain": [
       "8252"
      ]
     },
     "execution_count": 109,
     "metadata": {},
     "output_type": "execute_result"
    }
   ],
   "source": [
    "ann[0][1]"
   ]
  },
  {
   "cell_type": "code",
   "execution_count": 112,
   "metadata": {},
   "outputs": [
    {
     "data": {
      "text/html": [
       "<div>\n",
       "<style scoped>\n",
       "    .dataframe tbody tr th:only-of-type {\n",
       "        vertical-align: middle;\n",
       "    }\n",
       "\n",
       "    .dataframe tbody tr th {\n",
       "        vertical-align: top;\n",
       "    }\n",
       "\n",
       "    .dataframe thead th {\n",
       "        text-align: right;\n",
       "    }\n",
       "</style>\n",
       "<table border=\"1\" class=\"dataframe\">\n",
       "  <thead>\n",
       "    <tr style=\"text-align: right;\">\n",
       "      <th></th>\n",
       "      <th>cik_str</th>\n",
       "      <th>ticker</th>\n",
       "      <th>Company</th>\n",
       "    </tr>\n",
       "  </thead>\n",
       "  <tbody>\n",
       "    <tr>\n",
       "      <th>0</th>\n",
       "      <td>320193</td>\n",
       "      <td>AAPL</td>\n",
       "      <td>Apple Inc.</td>\n",
       "    </tr>\n",
       "    <tr>\n",
       "      <th>1</th>\n",
       "      <td>789019</td>\n",
       "      <td>MSFT</td>\n",
       "      <td>Microsoft Corp</td>\n",
       "    </tr>\n",
       "    <tr>\n",
       "      <th>2</th>\n",
       "      <td>1652044</td>\n",
       "      <td>GOOGL</td>\n",
       "      <td>Alphabet Inc.</td>\n",
       "    </tr>\n",
       "    <tr>\n",
       "      <th>3</th>\n",
       "      <td>1018724</td>\n",
       "      <td>AMZN</td>\n",
       "      <td>Amazon Com Inc</td>\n",
       "    </tr>\n",
       "    <tr>\n",
       "      <th>4</th>\n",
       "      <td>1045810</td>\n",
       "      <td>NVDA</td>\n",
       "      <td>Nvidia Corp</td>\n",
       "    </tr>\n",
       "    <tr>\n",
       "      <th>...</th>\n",
       "      <td>...</td>\n",
       "      <td>...</td>\n",
       "      <td>...</td>\n",
       "    </tr>\n",
       "    <tr>\n",
       "      <th>10719</th>\n",
       "      <td>1843862</td>\n",
       "      <td>EOCWF</td>\n",
       "      <td>Elliott Opportunity Ii Corp.</td>\n",
       "    </tr>\n",
       "    <tr>\n",
       "      <th>10721</th>\n",
       "      <td>1698538</td>\n",
       "      <td>STSR</td>\n",
       "      <td>Strategic Student &amp; Senior Housing Trust, Inc.</td>\n",
       "    </tr>\n",
       "    <tr>\n",
       "      <th>10722</th>\n",
       "      <td>874710</td>\n",
       "      <td>AHPIQ</td>\n",
       "      <td>Allied Healthcare Products Inc</td>\n",
       "    </tr>\n",
       "    <tr>\n",
       "      <th>10758</th>\n",
       "      <td>13372</td>\n",
       "      <td>NSARO</td>\n",
       "      <td>Nstar Electric Co</td>\n",
       "    </tr>\n",
       "    <tr>\n",
       "      <th>10807</th>\n",
       "      <td>1817218</td>\n",
       "      <td>SPKX</td>\n",
       "      <td>Convexityshares Trust</td>\n",
       "    </tr>\n",
       "  </tbody>\n",
       "</table>\n",
       "<p>8326 rows × 3 columns</p>\n",
       "</div>"
      ],
      "text/plain": [
       "       cik_str ticker                                         Company\n",
       "0       320193   AAPL                                      Apple Inc.\n",
       "1       789019   MSFT                                  Microsoft Corp\n",
       "2      1652044  GOOGL                                   Alphabet Inc.\n",
       "3      1018724   AMZN                                  Amazon Com Inc\n",
       "4      1045810   NVDA                                     Nvidia Corp\n",
       "...        ...    ...                                             ...\n",
       "10719  1843862  EOCWF                    Elliott Opportunity Ii Corp.\n",
       "10721  1698538   STSR  Strategic Student & Senior Housing Trust, Inc.\n",
       "10722   874710  AHPIQ                  Allied Healthcare Products Inc\n",
       "10758    13372  NSARO                               Nstar Electric Co\n",
       "10807  1817218   SPKX                           Convexityshares Trust\n",
       "\n",
       "[8326 rows x 3 columns]"
      ]
     },
     "execution_count": 112,
     "metadata": {},
     "output_type": "execute_result"
    }
   ],
   "source": [
    "possibleCompanies"
   ]
  },
  {
   "cell_type": "code",
   "execution_count": null,
   "metadata": {},
   "outputs": [],
   "source": []
  }
 ],
 "metadata": {
  "kernelspec": {
   "display_name": "Python 3 (ipykernel)",
   "language": "python",
   "name": "python3"
  },
  "language_info": {
   "codemirror_mode": {
    "name": "ipython",
    "version": 3
   },
   "file_extension": ".py",
   "mimetype": "text/x-python",
   "name": "python",
   "nbconvert_exporter": "python",
   "pygments_lexer": "ipython3",
   "version": "3.9.17"
  }
 },
 "nbformat": 4,
 "nbformat_minor": 2
}
