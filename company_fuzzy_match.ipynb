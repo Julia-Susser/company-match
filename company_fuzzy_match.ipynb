{
 "cells": [
  {
   "cell_type": "markdown",
   "metadata": {},
   "source": [
    "### Fuzzy String Matcher (Basic)"
   ]
  },
  {
   "cell_type": "code",
   "execution_count": null,
   "metadata": {},
   "outputs": [],
   "source": [
    "import pandas as pd\n",
    "import numpy as np\n",
    "from string_grouper import match_strings, match_most_similar, \\\n",
    "\tgroup_similar_strings, compute_pairwise_similarities, \\\n",
    "\tStringGrouper\n",
    "import cleanco"
   ]
  },
  {
   "cell_type": "code",
   "execution_count": null,
   "metadata": {},
   "outputs": [],
   "source": [
    "## directory info\n",
    "rootDataPath = 'INSERT YOUR FILEPATH HERE'"
   ]
  },
  {
   "cell_type": "code",
   "execution_count": null,
   "metadata": {},
   "outputs": [],
   "source": [
    "## file read\n",
    "matchlist = pd.read_csv(f'{rootDataPath}company_matches_pre_cleaning.csv')"
   ]
  },
  {
   "cell_type": "code",
   "execution_count": null,
   "metadata": {},
   "outputs": [],
   "source": [
    "## establish reference list for all matches to be matched against\n",
    "ref_list = matchlist[['companyId','companyName']].drop_duplicates().copy()\n",
    "\n",
    "## remove the following words from the company names\n",
    "pattern = '|'.join(['-','_','technologies','technology','pharmaceuticals','partners', 'international',\n",
    "'financial services','management','consulting','industries','entertainment', 'enterprises','com'\n",
    "'networks','life sciences','capital markets','communications','resources','healthcare','therapeutics','health care'])\n",
    "\n",
    "## replace those words\n",
    "ref_list['dehyphenName'] = ref_list.companyName.str.replace(pattern,' ')\n",
    "\n",
    "## apply company name cleaning\n",
    "ref_list['cleanMain'] = ref_list.apply(lambda x: cleanco.basename(x.dehyphenName), axis=1)"
   ]
  },
  {
   "cell_type": "code",
   "execution_count": null,
   "metadata": {},
   "outputs": [],
   "source": [
    "## establish list of companies to be matched (the reference list is where we'll be matching them)\n",
    "to_match_list = matchlist[['companyName2']].drop_duplicates().copy().astype(str)\n",
    "to_match_list['dehyphenName'] = to_match_list.companyName2.str.replace(pattern, ' ')\n",
    "to_match_list['cleanToMatch'] = to_match_list.apply(lambda x: cleanco.basename(x.dehyphenName), axis=1)"
   ]
  },
  {
   "cell_type": "code",
   "execution_count": null,
   "metadata": {},
   "outputs": [],
   "source": [
    "## break apart the match list to speed things up into blocks of 600k\n",
    "matchlists_chunks = [to_match_list.cleanToMatch[0:600000].copy(), to_match_list.cleanToMatch[600000:1200000].copy(), to_match_list.cleanToMatch[1200000:].copy()]\n",
    "matchlists_chunks = [item.astype(str) for item in matchlists_chunks]"
   ]
  },
  {
   "cell_type": "code",
   "execution_count": null,
   "metadata": {},
   "outputs": [],
   "source": [
    "## test to check similarity threshold. going with 0.67 for now.\n",
    "matches1 = match_strings(ref_list.cleanMain, matchlists_chunks[0], n_blocks='auto', min_similarity=0.67)\n",
    "matches1.sort_values(by='similarity', ascending=True).head(20)"
   ]
  },
  {
   "cell_type": "code",
   "execution_count": null,
   "metadata": {},
   "outputs": [],
   "source": [
    "## concatenate all of the matches\n",
    "matches = pd.concat([match_strings(ref_list.cleanMain, item, n_blocks='auto', min_similarity=0.67) for item in matchlists_chunks], axis=0, ignore_index=True)\n",
    "matches.sort_values(by='similarity', ascending=False)"
   ]
  },
  {
   "cell_type": "code",
   "execution_count": 148,
   "metadata": {},
   "outputs": [],
   "source": [
    "def retrieveData():\n",
    "    url = \"https://www.sec.gov/files/company_tickers.json\"\n",
    "    response = requests.get(url)\n",
    "    json_data = response.json()\n",
    "    file_name = \"company_tickers.json\"\n",
    "    with open(file_name, \"w\") as json_file:\n",
    "        json.dump(json_data, json_file)\n",
    "    print(f\"JSON data saved to {file_name}\")\n",
    "\n",
    "def loadData():\n",
    "    file_name = \"company_tickers.json\"\n",
    "    with open(file_name, \"r\") as json_file:\n",
    "        loaded_json_data = json.load(json_file)\n",
    "    df = pd.DataFrame(loaded_json_data)\n",
    "    df = df.transpose()\n",
    "    df.title = df.title.str.title()\n",
    "    df = df.rename({\"title\":\"Company\"},axis=1)\n",
    "#     df = df[~df.ticker.str.contains('-')]\n",
    "#     df = df.drop_duplicates(subset='Company', keep='first')\n",
    "    df.to_csv(\"SEC-CompanyTicker.csv\")\n",
    "    return df\n",
    "df = loadData()\n"
   ]
  },
  {
   "cell_type": "code",
   "execution_count": 153,
   "metadata": {},
   "outputs": [
    {
     "data": {
      "text/html": [
       "<div>\n",
       "<style scoped>\n",
       "    .dataframe tbody tr th:only-of-type {\n",
       "        vertical-align: middle;\n",
       "    }\n",
       "\n",
       "    .dataframe tbody tr th {\n",
       "        vertical-align: top;\n",
       "    }\n",
       "\n",
       "    .dataframe thead th {\n",
       "        text-align: right;\n",
       "    }\n",
       "</style>\n",
       "<table border=\"1\" class=\"dataframe\">\n",
       "  <thead>\n",
       "    <tr style=\"text-align: right;\">\n",
       "      <th></th>\n",
       "      <th>cik_str</th>\n",
       "      <th>ticker</th>\n",
       "      <th>Company</th>\n",
       "    </tr>\n",
       "  </thead>\n",
       "  <tbody>\n",
       "    <tr>\n",
       "      <th>3682</th>\n",
       "      <td>1403256</td>\n",
       "      <td>SCU</td>\n",
       "      <td>Sculptor Capital Management, Inc.</td>\n",
       "    </tr>\n",
       "  </tbody>\n",
       "</table>\n",
       "</div>"
      ],
      "text/plain": [
       "      cik_str ticker                            Company\n",
       "3682  1403256    SCU  Sculptor Capital Management, Inc."
      ]
     },
     "execution_count": 153,
     "metadata": {},
     "output_type": "execute_result"
    }
   ],
   "source": [
    "df[df.Company.str.contains(\"Sculptor\")]"
   ]
  },
  {
   "cell_type": "code",
   "execution_count": 188,
   "metadata": {},
   "outputs": [],
   "source": [
    "from sentence_transformers import SentenceTransformer\n",
    "import faiss\n",
    "import requests\n",
    "import json\n",
    "import pandas as pd\n",
    "import numpy as np\n",
    "companyNames = pd.read_csv(\"SEC-Data.csv\")\n",
    "companyNames = pd.DataFrame({\"Company\":[\"Wells Fargo\",\"Sculptor\"]}) \n",
    "\n",
    "\n",
    "class Similarity:  \n",
    "    def __init__(self):\n",
    "        self.possibleCompanies = loadData()\n",
    "\n",
    "        \n",
    "    def TrainFaiss(self):\n",
    "        self.encoder = SentenceTransformer(\"paraphrase-mpnet-base-v2\")\n",
    "        vectors = self.encoder.encode(list(self.possibleCompanies.Company))\n",
    "        vector_dimension = vectors.shape[1]\n",
    "        self.index = faiss.IndexFlatL2(vector_dimension)\n",
    "        faiss.normalize_L2(vectors)\n",
    "        self.index.add(vectors)\n",
    "        \n",
    "    def getCompanyMatch(self, companyNames):\n",
    "        possibleCompanies = loadData()\n",
    "        possibleCompanies = possibleCompanies[~df.ticker.str.contains('-')]\n",
    "        possibleCompanies = possibleCompanies.drop_duplicates(subset='Company', keep='first')\n",
    "\n",
    "        matches = pd.DataFrame(columns=[\"Company\",'cik_str', 'ticker', 'Match'])\n",
    "        for i,company in enumerate(companyNames[\"Company\"]):\n",
    "            match = predict(company)\n",
    "            matches.loc[i] = [company] + list(match.iloc[0]) \n",
    "        return matches\n",
    "            \n",
    "    def predict(self,search_text):\n",
    "        search_vector = self.encoder.encode(search_text)\n",
    "        _vector = np.array([search_vector])\n",
    "        faiss.normalize_L2(_vector)\n",
    "        k = self.index.ntotal\n",
    "        distances, ann = self.index.search(_vector, k=k)\n",
    "        return self.possibleCompanies[ann[0][0]]\n",
    "    \n",
    "    "
   ]
  },
  {
   "cell_type": "code",
   "execution_count": 189,
   "metadata": {},
   "outputs": [],
   "source": [
    "\n",
    "matcher = Similarity()\n"
   ]
  },
  {
   "cell_type": "code",
   "execution_count": null,
   "metadata": {},
   "outputs": [],
   "source": [
    "matcher.TrainFaiss()\n"
   ]
  },
  {
   "cell_type": "code",
   "execution_count": null,
   "metadata": {},
   "outputs": [],
   "source": [
    "matcher.getCompanyMatch(companyNames)"
   ]
  },
  {
   "cell_type": "code",
   "execution_count": 126,
   "metadata": {},
   "outputs": [],
   "source": [
    "\n",
    "possibleCompanies = pd.read_csv(\"SEC-CompanyTicker.csv\",index_col=0)\n",
    "\n",
    "encoder = SentenceTransformer(\"paraphrase-mpnet-base-v2\")\n",
    "vectors = encoder.encode(list(possibleCompanies.Company))\n",
    "vector_dimension = vectors.shape[1]\n",
    "index = faiss.IndexFlatL2(vector_dimension)\n",
    "faiss.normalize_L2(vectors)\n",
    "index.add(vectors)\n"
   ]
  },
  {
   "cell_type": "code",
   "execution_count": 155,
   "metadata": {},
   "outputs": [],
   "source": [
    "def predict(s):\n",
    "    search_vector = encoder.encode(s)\n",
    "    _vector = np.array([search_vector])\n",
    "    faiss.normalize_L2(_vector)\n",
    "    k = index.ntotal\n",
    "    distances, ann = index.search(_vector, k=k)\n",
    "    return possibleCompanies.iloc[[ann[0][0]]]"
   ]
  },
  {
   "cell_type": "code",
   "execution_count": 156,
   "metadata": {},
   "outputs": [
    {
     "data": {
      "text/html": [
       "<div>\n",
       "<style scoped>\n",
       "    .dataframe tbody tr th:only-of-type {\n",
       "        vertical-align: middle;\n",
       "    }\n",
       "\n",
       "    .dataframe tbody tr th {\n",
       "        vertical-align: top;\n",
       "    }\n",
       "\n",
       "    .dataframe thead th {\n",
       "        text-align: right;\n",
       "    }\n",
       "</style>\n",
       "<table border=\"1\" class=\"dataframe\">\n",
       "  <thead>\n",
       "    <tr style=\"text-align: right;\">\n",
       "      <th></th>\n",
       "      <th>cik_str</th>\n",
       "      <th>ticker</th>\n",
       "      <th>Company</th>\n",
       "    </tr>\n",
       "  </thead>\n",
       "  <tbody>\n",
       "    <tr>\n",
       "      <th>0</th>\n",
       "      <td>320193</td>\n",
       "      <td>AAPL</td>\n",
       "      <td>Apple Inc.</td>\n",
       "    </tr>\n",
       "  </tbody>\n",
       "</table>\n",
       "</div>"
      ],
      "text/plain": [
       "   cik_str ticker     Company\n",
       "0   320193   AAPL  Apple Inc."
      ]
     },
     "execution_count": 156,
     "metadata": {},
     "output_type": "execute_result"
    }
   ],
   "source": [
    "predict(\"Apple\")"
   ]
  },
  {
   "cell_type": "code",
   "execution_count": 184,
   "metadata": {},
   "outputs": [
    {
     "data": {
      "text/html": [
       "<div>\n",
       "<style scoped>\n",
       "    .dataframe tbody tr th:only-of-type {\n",
       "        vertical-align: middle;\n",
       "    }\n",
       "\n",
       "    .dataframe tbody tr th {\n",
       "        vertical-align: top;\n",
       "    }\n",
       "\n",
       "    .dataframe thead th {\n",
       "        text-align: right;\n",
       "    }\n",
       "</style>\n",
       "<table border=\"1\" class=\"dataframe\">\n",
       "  <thead>\n",
       "    <tr style=\"text-align: right;\">\n",
       "      <th></th>\n",
       "      <th>Company</th>\n",
       "      <th>cik_str</th>\n",
       "      <th>ticker</th>\n",
       "      <th>Match</th>\n",
       "    </tr>\n",
       "  </thead>\n",
       "  <tbody>\n",
       "    <tr>\n",
       "      <th>0</th>\n",
       "      <td>Wells Fargo</td>\n",
       "      <td>72971</td>\n",
       "      <td>WFC</td>\n",
       "      <td>Wells Fargo &amp; Company/Mn</td>\n",
       "    </tr>\n",
       "    <tr>\n",
       "      <th>1</th>\n",
       "      <td>Sculptor</td>\n",
       "      <td>1403256</td>\n",
       "      <td>SCU</td>\n",
       "      <td>Sculptor Capital Management, Inc.</td>\n",
       "    </tr>\n",
       "  </tbody>\n",
       "</table>\n",
       "</div>"
      ],
      "text/plain": [
       "       Company  cik_str ticker                              Match\n",
       "0  Wells Fargo    72971    WFC           Wells Fargo & Company/Mn\n",
       "1     Sculptor  1403256    SCU  Sculptor Capital Management, Inc."
      ]
     },
     "execution_count": 184,
     "metadata": {},
     "output_type": "execute_result"
    }
   ],
   "source": []
  },
  {
   "cell_type": "code",
   "execution_count": 172,
   "metadata": {},
   "outputs": [
    {
     "data": {
      "text/html": [
       "<div>\n",
       "<style scoped>\n",
       "    .dataframe tbody tr th:only-of-type {\n",
       "        vertical-align: middle;\n",
       "    }\n",
       "\n",
       "    .dataframe tbody tr th {\n",
       "        vertical-align: top;\n",
       "    }\n",
       "\n",
       "    .dataframe thead th {\n",
       "        text-align: right;\n",
       "    }\n",
       "</style>\n",
       "<table border=\"1\" class=\"dataframe\">\n",
       "  <thead>\n",
       "    <tr style=\"text-align: right;\">\n",
       "      <th></th>\n",
       "      <th>cik_str</th>\n",
       "      <th>ticker</th>\n",
       "      <th>Company</th>\n",
       "    </tr>\n",
       "  </thead>\n",
       "  <tbody>\n",
       "    <tr>\n",
       "      <th>3682</th>\n",
       "      <td>1403256</td>\n",
       "      <td>SCU</td>\n",
       "      <td>Sculptor Capital Management, Inc.</td>\n",
       "    </tr>\n",
       "  </tbody>\n",
       "</table>\n",
       "</div>"
      ],
      "text/plain": [
       "      cik_str ticker                            Company\n",
       "3682  1403256    SCU  Sculptor Capital Management, Inc."
      ]
     },
     "execution_count": 172,
     "metadata": {},
     "output_type": "execute_result"
    }
   ],
   "source": [
    "match"
   ]
  },
  {
   "cell_type": "code",
   "execution_count": 177,
   "metadata": {},
   "outputs": [
    {
     "ename": "AttributeError",
     "evalue": "'DataFrame' object has no attribute 'to_list'",
     "output_type": "error",
     "traceback": [
      "\u001b[0;31m---------------------------------------------------------------------------\u001b[0m",
      "\u001b[0;31mAttributeError\u001b[0m                            Traceback (most recent call last)",
      "Input \u001b[0;32mIn [177]\u001b[0m, in \u001b[0;36m<cell line: 1>\u001b[0;34m()\u001b[0m\n\u001b[0;32m----> 1\u001b[0m \u001b[38;5;28;43;01mmatch\u001b[39;49;00m\u001b[38;5;241;43m.\u001b[39;49m\u001b[43mto_list\u001b[49m\n",
      "File \u001b[0;32m/opt/homebrew/lib/python3.9/site-packages/pandas/core/generic.py:5575\u001b[0m, in \u001b[0;36mNDFrame.__getattr__\u001b[0;34m(self, name)\u001b[0m\n\u001b[1;32m   5568\u001b[0m \u001b[38;5;28;01mif\u001b[39;00m (\n\u001b[1;32m   5569\u001b[0m     name \u001b[38;5;129;01mnot\u001b[39;00m \u001b[38;5;129;01min\u001b[39;00m \u001b[38;5;28mself\u001b[39m\u001b[38;5;241m.\u001b[39m_internal_names_set\n\u001b[1;32m   5570\u001b[0m     \u001b[38;5;129;01mand\u001b[39;00m name \u001b[38;5;129;01mnot\u001b[39;00m \u001b[38;5;129;01min\u001b[39;00m \u001b[38;5;28mself\u001b[39m\u001b[38;5;241m.\u001b[39m_metadata\n\u001b[1;32m   5571\u001b[0m     \u001b[38;5;129;01mand\u001b[39;00m name \u001b[38;5;129;01mnot\u001b[39;00m \u001b[38;5;129;01min\u001b[39;00m \u001b[38;5;28mself\u001b[39m\u001b[38;5;241m.\u001b[39m_accessors\n\u001b[1;32m   5572\u001b[0m     \u001b[38;5;129;01mand\u001b[39;00m \u001b[38;5;28mself\u001b[39m\u001b[38;5;241m.\u001b[39m_info_axis\u001b[38;5;241m.\u001b[39m_can_hold_identifiers_and_holds_name(name)\n\u001b[1;32m   5573\u001b[0m ):\n\u001b[1;32m   5574\u001b[0m     \u001b[38;5;28;01mreturn\u001b[39;00m \u001b[38;5;28mself\u001b[39m[name]\n\u001b[0;32m-> 5575\u001b[0m \u001b[38;5;28;01mreturn\u001b[39;00m \u001b[38;5;28;43mobject\u001b[39;49m\u001b[38;5;241;43m.\u001b[39;49m\u001b[38;5;21;43m__getattribute__\u001b[39;49m\u001b[43m(\u001b[49m\u001b[38;5;28;43mself\u001b[39;49m\u001b[43m,\u001b[49m\u001b[43m \u001b[49m\u001b[43mname\u001b[49m\u001b[43m)\u001b[49m\n",
      "\u001b[0;31mAttributeError\u001b[0m: 'DataFrame' object has no attribute 'to_list'"
     ]
    }
   ],
   "source": [
    "match.to_list"
   ]
  },
  {
   "cell_type": "code",
   "execution_count": null,
   "metadata": {},
   "outputs": [],
   "source": []
  }
 ],
 "metadata": {
  "kernelspec": {
   "display_name": "Python 3 (ipykernel)",
   "language": "python",
   "name": "python3"
  },
  "language_info": {
   "codemirror_mode": {
    "name": "ipython",
    "version": 3
   },
   "file_extension": ".py",
   "mimetype": "text/x-python",
   "name": "python",
   "nbconvert_exporter": "python",
   "pygments_lexer": "ipython3",
   "version": "3.9.17"
  }
 },
 "nbformat": 4,
 "nbformat_minor": 2
}
