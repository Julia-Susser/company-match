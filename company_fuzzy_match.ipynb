{
 "cells": [
  {
   "cell_type": "markdown",
   "metadata": {},
   "source": [
    "### Fuzzy String Matcher (Basic)"
   ]
  },
  {
   "cell_type": "code",
   "execution_count": null,
   "metadata": {},
   "outputs": [],
   "source": [
    "import pandas as pd\n",
    "import numpy as np\n",
    "from string_grouper import match_strings, match_most_similar, \\\n",
    "\tgroup_similar_strings, compute_pairwise_similarities, \\\n",
    "\tStringGrouper\n",
    "import cleanco"
   ]
  },
  {
   "cell_type": "code",
   "execution_count": null,
   "metadata": {},
   "outputs": [],
   "source": [
    "## directory info\n",
    "rootDataPath = 'INSERT YOUR FILEPATH HERE'"
   ]
  },
  {
   "cell_type": "code",
   "execution_count": null,
   "metadata": {},
   "outputs": [],
   "source": [
    "## file read\n",
    "matchlist = pd.read_csv(f'{rootDataPath}company_matches_pre_cleaning.csv')"
   ]
  },
  {
   "cell_type": "code",
   "execution_count": null,
   "metadata": {},
   "outputs": [],
   "source": [
    "## establish reference list for all matches to be matched against\n",
    "ref_list = matchlist[['companyId','companyName']].drop_duplicates().copy()\n",
    "\n",
    "## remove the following words from the company names\n",
    "pattern = '|'.join(['-','_','technologies','technology','pharmaceuticals','partners', 'international',\n",
    "'financial services','management','consulting','industries','entertainment', 'enterprises','com'\n",
    "'networks','life sciences','capital markets','communications','resources','healthcare','therapeutics','health care'])\n",
    "\n",
    "## replace those words\n",
    "ref_list['dehyphenName'] = ref_list.companyName.str.replace(pattern,' ')\n",
    "\n",
    "## apply company name cleaning\n",
    "ref_list['cleanMain'] = ref_list.apply(lambda x: cleanco.basename(x.dehyphenName), axis=1)"
   ]
  },
  {
   "cell_type": "code",
   "execution_count": null,
   "metadata": {},
   "outputs": [],
   "source": [
    "## establish list of companies to be matched (the reference list is where we'll be matching them)\n",
    "to_match_list = matchlist[['companyName2']].drop_duplicates().copy().astype(str)\n",
    "to_match_list['dehyphenName'] = to_match_list.companyName2.str.replace(pattern, ' ')\n",
    "to_match_list['cleanToMatch'] = to_match_list.apply(lambda x: cleanco.basename(x.dehyphenName), axis=1)"
   ]
  },
  {
   "cell_type": "code",
   "execution_count": null,
   "metadata": {},
   "outputs": [],
   "source": [
    "## break apart the match list to speed things up into blocks of 600k\n",
    "matchlists_chunks = [to_match_list.cleanToMatch[0:600000].copy(), to_match_list.cleanToMatch[600000:1200000].copy(), to_match_list.cleanToMatch[1200000:].copy()]\n",
    "matchlists_chunks = [item.astype(str) for item in matchlists_chunks]"
   ]
  },
  {
   "cell_type": "code",
   "execution_count": null,
   "metadata": {},
   "outputs": [],
   "source": [
    "## test to check similarity threshold. going with 0.67 for now.\n",
    "matches1 = match_strings(ref_list.cleanMain, matchlists_chunks[0], n_blocks='auto', min_similarity=0.67)\n",
    "matches1.sort_values(by='similarity', ascending=True).head(20)"
   ]
  },
  {
   "cell_type": "code",
   "execution_count": null,
   "metadata": {},
   "outputs": [],
   "source": [
    "## concatenate all of the matches\n",
    "matches = pd.concat([match_strings(ref_list.cleanMain, item, n_blocks='auto', min_similarity=0.67) for item in matchlists_chunks], axis=0, ignore_index=True)\n",
    "matches.sort_values(by='similarity', ascending=False)"
   ]
  },
  {
   "cell_type": "code",
   "execution_count": 31,
   "metadata": {},
   "outputs": [],
   "source": [
    "from sentence_transformers import SentenceTransformer\n",
    "import faiss\n",
    "import requests\n",
    "import json\n",
    "import pandas as pd\n",
    "import numpy as np\n",
    "\n",
    "companyNames = pd.DataFrame({\"Company\":[\"Wells Fargo\",\"Sculptor\"]})\n",
    "class Similarity:\n",
    "    def __init__(self,companyNames):\n",
    "        self.companyNames = companyNames\n",
    "        self.TrainFaiss()\n",
    "        self.getCompanyMatch()\n",
    "    \n",
    "    def retrieveData(self):\n",
    "        url = \"https://www.sec.gov/files/company_tickers.json\"\n",
    "        response = requests.get(url)\n",
    "        json_data = response.json()\n",
    "        file_name = \"company_tickers.json\"\n",
    "        with open(file_name, \"w\") as json_file:\n",
    "            json.dump(json_data, json_file)\n",
    "        print(f\"JSON data saved to {file_name}\")\n",
    "        \n",
    "    def loadData(self):\n",
    "        file_name = \"company_tickers.json\"\n",
    "        with open(file_name, \"r\") as json_file:\n",
    "            loaded_json_data = json.load(json_file)\n",
    "        df = pd.DataFrame(loaded_json_data)\n",
    "        df = df.transpose()\n",
    "        df.title = df.title.str.title()\n",
    "        df = df.rename({\"title\":\"Companies\"},axis=1)\n",
    "        return df\n",
    "    \n",
    "    def TrainFaiss(self):\n",
    "#         df = pd.read_csv(\"SEC-Data.csv\",index_col=0)\n",
    "        df = self.loadData()\n",
    "        self.possibleCompanies = df.Companies\n",
    "        print(self.possibleCompanies)\n",
    "        self.encoder = SentenceTransformer(\"paraphrase-mpnet-base-v2\")\n",
    "        vectors = self.encoder.encode(self.possibleCompanies)\n",
    "        vector_dimension = vectors.shape[1]\n",
    "        self.index = faiss.IndexFlatL2(vector_dimension)\n",
    "        faiss.normalize_L2(vectors)\n",
    "        self.index.add(vectors)\n",
    "        \n",
    "    def getCompanyMatch(self):\n",
    "        matches = []\n",
    "        for company in self.companyNames[\"Company\"]:\n",
    "            match = self.predict(company)\n",
    "            matches.append(match)\n",
    "        self.companyNames[\"Matches\"] = matches\n",
    "            \n",
    "    def predict(self,search_text):\n",
    "        search_vector = self.encoder.encode(search_text)\n",
    "        _vector = np.array([search_vector])\n",
    "        faiss.normalize_L2(_vector)\n",
    "        k = self.index.ntotal\n",
    "        distances, ann = self.index.search(_vector, k=k)\n",
    "        return self.possibleCompanies[ann[0][0]]\n",
    "    \n",
    "    "
   ]
  },
  {
   "cell_type": "code",
   "execution_count": 32,
   "metadata": {},
   "outputs": [
    {
     "name": "stdout",
     "output_type": "stream",
     "text": [
      "0                       Apple Inc.\n",
      "1                   Microsoft Corp\n",
      "2                    Alphabet Inc.\n",
      "3                   Amazon Com Inc\n",
      "4                      Nvidia Corp\n",
      "                   ...            \n",
      "10893                   Lavoro Ltd\n",
      "10894         Livewire Group, Inc.\n",
      "10895    Nocturne Acquisition Corp\n",
      "10896    Nocturne Acquisition Corp\n",
      "10897          Wm Technology, Inc.\n",
      "Name: Companies, Length: 10898, dtype: object\n"
     ]
    }
   ],
   "source": [
    "\n",
    "obj = Similarity(companyNames)\n"
   ]
  },
  {
   "cell_type": "code",
   "execution_count": 33,
   "metadata": {},
   "outputs": [
    {
     "data": {
      "text/html": [
       "<div>\n",
       "<style scoped>\n",
       "    .dataframe tbody tr th:only-of-type {\n",
       "        vertical-align: middle;\n",
       "    }\n",
       "\n",
       "    .dataframe tbody tr th {\n",
       "        vertical-align: top;\n",
       "    }\n",
       "\n",
       "    .dataframe thead th {\n",
       "        text-align: right;\n",
       "    }\n",
       "</style>\n",
       "<table border=\"1\" class=\"dataframe\">\n",
       "  <thead>\n",
       "    <tr style=\"text-align: right;\">\n",
       "      <th></th>\n",
       "      <th>Company</th>\n",
       "      <th>Matches</th>\n",
       "    </tr>\n",
       "  </thead>\n",
       "  <tbody>\n",
       "    <tr>\n",
       "      <th>0</th>\n",
       "      <td>Wells Fargo</td>\n",
       "      <td>Wells Fargo &amp; Company/Mn</td>\n",
       "    </tr>\n",
       "    <tr>\n",
       "      <th>1</th>\n",
       "      <td>Sculptor</td>\n",
       "      <td>Sculptor Capital Management, Inc.</td>\n",
       "    </tr>\n",
       "  </tbody>\n",
       "</table>\n",
       "</div>"
      ],
      "text/plain": [
       "       Company                            Matches\n",
       "0  Wells Fargo           Wells Fargo & Company/Mn\n",
       "1     Sculptor  Sculptor Capital Management, Inc."
      ]
     },
     "execution_count": 33,
     "metadata": {},
     "output_type": "execute_result"
    }
   ],
   "source": [
    "obj.companyNames"
   ]
  },
  {
   "cell_type": "code",
   "execution_count": null,
   "metadata": {},
   "outputs": [],
   "source": []
  }
 ],
 "metadata": {
  "kernelspec": {
   "display_name": "Python 3 (ipykernel)",
   "language": "python",
   "name": "python3"
  },
  "language_info": {
   "codemirror_mode": {
    "name": "ipython",
    "version": 3
   },
   "file_extension": ".py",
   "mimetype": "text/x-python",
   "name": "python",
   "nbconvert_exporter": "python",
   "pygments_lexer": "ipython3",
   "version": "3.9.17"
  }
 },
 "nbformat": 4,
 "nbformat_minor": 2
}
